{
 "cells": [
  {
   "cell_type": "markdown",
   "metadata": {},
   "source": [
    "# Linear Regression Exercise `R`\n",
    "\n",
    "This exercise is going to be a little different in the sense that we won't be guiding in a question-by-question format. Instead, we are going to let you construct linear model in your choice of `R` or `Python`, whichever you prefer.\n",
    "\n",
    "The prediction problem is to predict `height` from the `'../../../datasets/stature-hand-foot/stature-hand-foot.csv'` (you may substitute this with another dataset from the dataset directory if you have a regression prediction problem in mind) dataset. You can use any variable or combination of variables in order to predict `height`.\n",
    "\n",
    "You are not going to be graded upon the performance of the model itself, but please approach this as an actual prediction problem. That being said, you should split the data into training and testing sets, in which your model is trained on your training set while the performance is assessed on the testing set. Be sure to predict some output with your testing inputs.\n",
    "\n",
    "The purpose of this assignment is to demonstrate your ability to use regression to develop a machine learning model. Feel free to include anything that demonstrates your understanding of model development and model refinement including data exploration and even written description of your reasoning. \n",
    "\n",
    "Like always, feel free to ask questions along the way if you get stuck at any point. We are more than happy to help!"
   ]
  },
  {
   "cell_type": "code",
   "execution_count": 1,
   "metadata": {
    "collapsed": true
   },
   "outputs": [],
   "source": [
    "df <- read.csv('../../../datasets/stature-hand-foot/stature-hand-foot.csv')"
   ]
  },
  {
   "cell_type": "code",
   "execution_count": 14,
   "metadata": {
    "collapsed": false
   },
   "outputs": [
    {
     "data": {
      "text/html": [
       "<table>\n",
       "<thead><tr><th></th><th scope=col>gender</th><th scope=col>height</th><th scope=col>hand.length</th><th scope=col>foot.length</th></tr></thead>\n",
       "<tbody>\n",
       "\t<tr><th scope=row>1</th><td>male  </td><td>1760.2</td><td>208.6 </td><td>269.6 </td></tr>\n",
       "\t<tr><th scope=row>2</th><td>male  </td><td>1730.1</td><td>207.6 </td><td>251.3 </td></tr>\n",
       "\t<tr><th scope=row>3</th><td>male  </td><td>1659.6</td><td>173.2 </td><td>193.6 </td></tr>\n",
       "\t<tr><th scope=row>4</th><td>male  </td><td>1751.3</td><td>258   </td><td>223.8 </td></tr>\n",
       "\t<tr><th scope=row>5</th><td>male  </td><td>1780.6</td><td>212.3 </td><td>282.1 </td></tr>\n",
       "\t<tr><th scope=row>6</th><td>male  </td><td>1818.3</td><td>213.4 </td><td>268   </td></tr>\n",
       "</tbody>\n",
       "</table>\n"
      ],
      "text/latex": [
       "\\begin{tabular}{r|llll}\n",
       "  & gender & height & hand.length & foot.length\\\\\n",
       "\\hline\n",
       "\t1 & male   & 1760.2 & 208.6  & 269.6 \\\\\n",
       "\t2 & male   & 1730.1 & 207.6  & 251.3 \\\\\n",
       "\t3 & male   & 1659.6 & 173.2  & 193.6 \\\\\n",
       "\t4 & male   & 1751.3 & 258    & 223.8 \\\\\n",
       "\t5 & male   & 1780.6 & 212.3  & 282.1 \\\\\n",
       "\t6 & male   & 1818.3 & 213.4  & 268   \\\\\n",
       "\\end{tabular}\n"
      ],
      "text/plain": [
       "  gender height hand.length foot.length\n",
       "1   male 1760.2       208.6       269.6\n",
       "2   male 1730.1       207.6       251.3\n",
       "3   male 1659.6       173.2       193.6\n",
       "4   male 1751.3       258.0       223.8\n",
       "5   male 1780.6       212.3       282.1\n",
       "6   male 1818.3       213.4       268.0"
      ]
     },
     "metadata": {},
     "output_type": "display_data"
    }
   ],
   "source": [
    "head(df)"
   ]
  },
  {
   "cell_type": "code",
   "execution_count": 3,
   "metadata": {
    "collapsed": false
   },
   "outputs": [
    {
     "name": "stderr",
     "output_type": "stream",
     "text": [
      "\n",
      "Attaching package: ‘dplyr’\n",
      "\n",
      "The following objects are masked from ‘package:stats’:\n",
      "\n",
      "    filter, lag\n",
      "\n",
      "The following objects are masked from ‘package:base’:\n",
      "\n",
      "    intersect, setdiff, setequal, union\n",
      "\n",
      "Loading required package: lattice\n",
      "Loading required package: ggplot2\n"
     ]
    }
   ],
   "source": [
    "library(dplyr)\n",
    "library(caret)\n",
    "library(ggplot2)"
   ]
  },
  {
   "cell_type": "code",
   "execution_count": 5,
   "metadata": {
    "collapsed": false
   },
   "outputs": [
    {
     "data": {
      "text/html": [
       "<table>\n",
       "<thead><tr><th></th><th scope=col>gender</th><th scope=col>height</th><th scope=col>hand.length</th><th scope=col>foot.length</th></tr></thead>\n",
       "<tbody>\n",
       "\t<tr><th scope=row>gender</th><td> 1.0000000</td><td>-0.8059484</td><td>-0.7214300</td><td>-0.7516046</td></tr>\n",
       "\t<tr><th scope=row>height</th><td>-0.8059484</td><td> 1.0000000</td><td> 0.8732954</td><td> 0.8812795</td></tr>\n",
       "\t<tr><th scope=row>hand.length</th><td>-0.7214300</td><td> 0.8732954</td><td> 1.0000000</td><td> 0.7882243</td></tr>\n",
       "\t<tr><th scope=row>foot.length</th><td>-0.7516046</td><td> 0.8812795</td><td> 0.7882243</td><td> 1.0000000</td></tr>\n",
       "</tbody>\n",
       "</table>\n"
      ],
      "text/latex": [
       "\\begin{tabular}{r|llll}\n",
       "  & gender & height & hand.length & foot.length\\\\\n",
       "\\hline\n",
       "\tgender &  1.0000000 & -0.8059484 & -0.7214300 & -0.7516046\\\\\n",
       "\theight & -0.8059484 &  1.0000000 &  0.8732954 &  0.8812795\\\\\n",
       "\thand.length & -0.7214300 &  0.8732954 &  1.0000000 &  0.7882243\\\\\n",
       "\tfoot.length & -0.7516046 &  0.8812795 &  0.7882243 &  1.0000000\\\\\n",
       "\\end{tabular}\n"
      ],
      "text/markdown": [
       "1. 1\n",
       "2. -0.805948393158306\n",
       "3. -0.721430032189319\n",
       "4. -0.751604586872859\n",
       "5. -0.805948393158306\n",
       "6. 1\n",
       "7. 0.873295383148218\n",
       "8. 0.881279516156984\n",
       "9. -0.721430032189319\n",
       "10. 0.873295383148218\n",
       "11. 1\n",
       "12. 0.788224308123872\n",
       "13. -0.751604586872859\n",
       "14. 0.881279516156984\n",
       "15. 0.788224308123872\n",
       "16. 1\n",
       "\n",
       "\n"
      ],
      "text/plain": [
       "                gender     height hand.length foot.length\n",
       "gender       1.0000000 -0.8059484  -0.7214300  -0.7516046\n",
       "height      -0.8059484  1.0000000   0.8732954   0.8812795\n",
       "hand.length -0.7214300  0.8732954   1.0000000   0.7882243\n",
       "foot.length -0.7516046  0.8812795   0.7882243   1.0000000"
      ]
     },
     "metadata": {},
     "output_type": "display_data"
    }
   ],
   "source": [
    "nums <- sapply(df, is.numeric)\n",
    "cor(df[ , nums])"
   ]
  },
  {
   "cell_type": "code",
   "execution_count": 6,
   "metadata": {
    "collapsed": true
   },
   "outputs": [],
   "source": [
    "\n",
    "frmla <- height ~ foot.length"
   ]
  },
  {
   "cell_type": "code",
   "execution_count": 7,
   "metadata": {
    "collapsed": false
   },
   "outputs": [
    {
     "data": {
      "text/plain": [
       "\n",
       "Call:\n",
       "lm(formula = .outcome ~ ., data = dat)\n",
       "\n",
       "Residuals:\n",
       "     Min       1Q   Median       3Q      Max \n",
       "-114.270  -22.007   -4.401   17.094  229.729 \n",
       "\n",
       "Coefficients:\n",
       "            Estimate Std. Error t value Pr(>|t|)    \n",
       "(Intercept) 566.0328    48.3199   11.71   <2e-16 ***\n",
       "foot.length   4.4620     0.1934   23.07   <2e-16 ***\n",
       "---\n",
       "Signif. codes:  0 ‘***’ 0.001 ‘**’ 0.01 ‘*’ 0.05 ‘.’ 0.1 ‘ ’ 1\n",
       "\n",
       "Residual standard error: 44.53 on 153 degrees of freedom\n",
       "Multiple R-squared:  0.7767,\tAdjusted R-squared:  0.7752 \n",
       "F-statistic:   532 on 1 and 153 DF,  p-value: < 2.2e-16\n"
      ]
     },
     "metadata": {},
     "output_type": "display_data"
    }
   ],
   "source": [
    "m1 <- train(frmla, df, method = \"lm\")\n",
    "summary(m1)"
   ]
  },
  {
   "cell_type": "code",
   "execution_count": 9,
   "metadata": {
    "collapsed": false
   },
   "outputs": [],
   "source": [
    "df$gender<-ifelse(df$gender==1, \"male\", \"female\")"
   ]
  },
  {
   "cell_type": "code",
   "execution_count": 10,
   "metadata": {
    "collapsed": true
   },
   "outputs": [],
   "source": [
    "frmla <- height ~ foot.length + gender"
   ]
  },
  {
   "cell_type": "code",
   "execution_count": 11,
   "metadata": {
    "collapsed": false
   },
   "outputs": [
    {
     "data": {
      "text/plain": [
       "\n",
       "Call:\n",
       "lm(formula = .outcome ~ ., data = dat)\n",
       "\n",
       "Residuals:\n",
       "    Min      1Q  Median      3Q     Max \n",
       "-97.055 -26.147   1.318  19.285 130.125 \n",
       "\n",
       "Coefficients:\n",
       "            Estimate Std. Error t value Pr(>|t|)    \n",
       "(Intercept) 846.9370    61.4796  13.776  < 2e-16 ***\n",
       "foot.length   3.2062     0.2612  12.277  < 2e-16 ***\n",
       "gendermale   61.8123     9.6623   6.397 1.85e-09 ***\n",
       "---\n",
       "Signif. codes:  0 ‘***’ 0.001 ‘**’ 0.01 ‘*’ 0.05 ‘.’ 0.1 ‘ ’ 1\n",
       "\n",
       "Residual standard error: 39.65 on 152 degrees of freedom\n",
       "Multiple R-squared:  0.824,\tAdjusted R-squared:  0.8217 \n",
       "F-statistic: 355.9 on 2 and 152 DF,  p-value: < 2.2e-16\n"
      ]
     },
     "metadata": {},
     "output_type": "display_data"
    }
   ],
   "source": [
    "m1 <- train(frmla, df, method = \"lm\")\n",
    "summary(m1)"
   ]
  },
  {
   "cell_type": "code",
   "execution_count": null,
   "metadata": {
    "collapsed": true
   },
   "outputs": [],
   "source": []
  }
 ],
 "metadata": {
  "kernelspec": {
   "display_name": "R",
   "language": "R",
   "name": "ir"
  },
  "language_info": {
   "codemirror_mode": "r",
   "file_extension": ".r",
   "mimetype": "text/x-r-source",
   "name": "R",
   "pygments_lexer": "r",
   "version": "3.3.1"
  }
 },
 "nbformat": 4,
 "nbformat_minor": 0
}
