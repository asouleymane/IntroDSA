{
 "cells": [
  {
   "cell_type": "markdown",
   "metadata": {},
   "source": [
    "# Linear Regression Exercise `R`\n",
    "\n",
    "This exercise is going to be a little different in the sense that we won't be guiding in a question-by-question format. Instead, we are going to let you construct linear model in your choice of `R` or `Python`, whichever you prefer.\n",
    "\n",
    "The prediction problem is to predict `height` from the `'../../../datasets/stature-hand-foot/stature-hand-foot.csv'` (you may substitute this with another dataset from the dataset directory if you have a regression prediction problem in mind) dataset. You can use any variable or combination of variables in order to predict `height`.\n",
    "\n",
    "You are not going to be graded upon the performance of the model itself, but please approach this as an actual prediction problem. That being said, you should split the data into training and testing sets, in which your model is trained on your training set while the performance is assessed on the testing set. Be sure to predict some output with your testing inputs.\n",
    "\n",
    "The purpose of this assignment is to demonstrate your ability to use regression to develop a machine learning model. Feel free to include anything that demonstrates your understanding of model development and model refinement including data exploration and even written description of your reasoning. \n",
    "\n",
    "Like always, feel free to ask questions along the way if you get stuck at any point. We are more than happy to help!"
   ]
  }
 ],
 "metadata": {
  "kernelspec": {
   "display_name": "R",
   "language": "R",
   "name": "ir"
  },
  "language_info": {
   "codemirror_mode": "r",
   "file_extension": ".r",
   "mimetype": "text/x-r-source",
   "name": "R",
   "pygments_lexer": "r",
   "version": "3.3.1"
  }
 },
 "nbformat": 4,
 "nbformat_minor": 0
}
