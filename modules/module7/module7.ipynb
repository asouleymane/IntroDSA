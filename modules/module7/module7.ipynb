{
 "cells": [
  {
   "cell_type": "markdown",
   "metadata": {},
   "source": [
    "# Module 7: Basic Modeling Part 2\n",
    "\n",
    "\n",
    "## Lab Notebooks\n",
    "- [Intro to Linear Regression with `R`](labs/linear_regression_r.ipynb)\n",
    "\n",
    "\n",
    "## Practices\n",
    "- [Linear Regression Practice with `Python`](practices/regression_practice_python.ipynb)\n",
    "\n",
    "\n",
    "## Exercises\n",
    "- [`Python` Linear Regression Exercise](exercises/linear_regression_exercise_python.ipynb)\n",
    "- [`R` Linear Regression Exercise](exercises/linear_regression_exercise_r.ipynb)\n",
    "\n",
    "## Topics covered\n",
    "- Introduction to SVM and Linear Regression\n",
    "- Packages for Performing SVM and Linear Regression\n",
    "\n",
    "## Datasets\n",
    "\n",
    "1. [MPG](../datasets/mpg.csv)\n",
    "2. [Stature Hand and Foot](./datasets/stature-hand-foot/stature-hand-foot.csv)\n",
    "\n",
    "## Suggested Schedule\n",
    "\n",
    "### Monday\n",
    "- **Concept Video**: SVM\n",
    "- **Concept Video**: Linear Regression\n",
    "- [Intro to Linear Regression with `R`](labs/linear_regression_r.ipynb)\n",
    "\n",
    "### Tuesday\n",
    "- [Linear Regression Practice with `Python`](practices/regression_practice_python.ipynb)\n",
    "\n",
    "### Wednesday\n",
    "- Discussion\n",
    "\n",
    "### Thursday\n",
    "- Discussion Responses\n",
    "\n",
    "### Friday/Saturday/Sunday\n",
    "- [`Python` Linear Regression Exercise](exercises/linear_regression_exercise_python.ipynb)\n",
    "- [`R` Linear Regression Exercise](exercises/linear_regression_exercise_r.ipynb)\n"
   ]
  }
 ],
 "metadata": {
  "kernelspec": {
   "display_name": "Python 3",
   "language": "python",
   "name": "python3"
  },
  "language_info": {
   "codemirror_mode": {
    "name": "ipython",
    "version": 3
   },
   "file_extension": ".py",
   "mimetype": "text/x-python",
   "name": "python",
   "nbconvert_exporter": "python",
   "pygments_lexer": "ipython3",
   "version": "3.5.2"
  }
 },
 "nbformat": 4,
 "nbformat_minor": 0
}
