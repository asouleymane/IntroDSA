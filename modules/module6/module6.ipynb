{
 "cells": [
  {
   "cell_type": "markdown",
   "metadata": {},
   "source": [
    "# Module Six: Basic Modeling Part 1\n",
    "\n",
    "\n",
    "## Lab Notebooks\n",
    "- [Intro to Naive Bayes Classification with `Python`](labs/intro_naive_bayes_python.ipynb)\n",
    "- [Intro to Decision Tree Classification with `R`](labs/intro_decision_tree_r.ipynb)\n",
    "\n",
    "\n",
    "## Practices\n",
    "- [Practice Decision Tree with `Python`](practices/practice_ml_python.ipynb)\n",
    "- [Practice Decision Tree with `R`](practices/practice_ml_r.ipynb)\n",
    "\n",
    "\n",
    "## Exercises\n",
    "- [`Python` Machine Learning Exercises](exercises/ml_exercises_python.ipynb)\n",
    "- [`R` Machine Learning Exercises](exercises/ml_exercises_r.ipynb)\n",
    "\n",
    "\n",
    "## Topics covered\n",
    "  - What is Machine Learning?\n",
    "  - Choosing a Machine Learning Algorithm that Fits your Data\n",
    "  - Introduction to Decision Trees and Naive Bayes Classification\n",
    "  - Packages for Performing Decision Trees and Naive Bayes Classification\n",
    "  \n",
    "\n",
    "## Resources\n",
    "- [**Reading**: A Visual Introduction to Machine Learning](http://www.r2d3.us/visual-intro-to-machine-learning-part-1/) giving an introduction to machine learning and decision trees.\n",
    "\n",
    "\n",
    "\n",
    "## Suggested Schedule\n",
    "\n",
    "### Monday\n",
    "- **Concept Video**: Naive Bayes\n",
    "- **Concept Video**: Decision Tree\n",
    "- [Intro to Naive Bayes Classification with `Python`](labs/intro_naive_bayes_python.ipynb)\n",
    "- [Intro to Decision Tree Classification with `R`](labs/intro_decision_tree_r.ipynb)\n",
    "\n",
    "\n",
    "### Tuesday\n",
    "- **Reading**: A Visual Introduction to Machine Learning\n",
    "- [Practice Decision Tree with `Python`](practices/practice_ml_python.ipynb)\n",
    "- [Practice Decision Tree with `R`](practices/practice_ml_r.ipynb)\n",
    "\n",
    "### Wednesday\n",
    "- continue practices\n",
    "\n",
    "### Thursday\n",
    "- continue practices\n",
    "\n",
    "### Friday/Saturday/Sunday\n",
    "- [`Python` Machine Learning Exercises](exercises/ml_exercises_python.ipynb)\n",
    "- [`R` Machine Learning Exercises](exercises/ml_exercises_r.ipynb)\n"
   ]
  }
 ],
 "metadata": {
  "kernelspec": {
   "display_name": "Python 3",
   "language": "python",
   "name": "python3"
  },
  "language_info": {
   "codemirror_mode": {
    "name": "ipython",
    "version": 3
   },
   "file_extension": ".py",
   "mimetype": "text/x-python",
   "name": "python",
   "nbconvert_exporter": "python",
   "pygments_lexer": "ipython3",
   "version": "3.5.2"
  }
 },
 "nbformat": 4,
 "nbformat_minor": 0
}
