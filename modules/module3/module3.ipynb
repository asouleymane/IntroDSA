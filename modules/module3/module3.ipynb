{
 "cells": [
  {
   "cell_type": "markdown",
   "metadata": {},
   "source": [
    "# Module 3 : Data Cleaning and Reshaping\n",
    "\n",
    "## Notebook Shortcuts\n",
    "\n",
    "### Labs\n",
    "- [Data Carpentry Lab](labs/data_carpentry.ipynb)\n",
    "- [Database Lab](labs/database_loading.ipynb) \n",
    "\n",
    "\n",
    "### Practice Examples  \n",
    "- [Practicing Data Carpentry](practices/data_carpentry_practice.ipynb)\n",
    "- [Practicing Database Queries](practices/database_querying_practice_python.ipynb)\n",
    "\n",
    "\n",
    "\n",
    "### Exercises\n",
    "- [Data Carpentry for a Mini Analysis](exercises/data_carpentry_exercises.ipynb)\n",
    "- [Database Querying](exercises/data_query.ipynb)\n",
    "\n",
    "\n",
    "## Topics covered\n",
    "- Techniques for cleaning data\n",
    "- Introduction to SQL\n",
    "- Configuring a Database Management System\n",
    "\n",
    "\n",
    "\n",
    "\n",
    "## Data Sets\n",
    "Path: `~/datasets/`\n",
    "\n",
    "Dataset Name    | File\n",
    "----------------|------------\n",
    "Messy Survery   | `messy_survey.xls`\n",
    "MLB Players     | `datasets/baseball-databank/data/Master.csv`\n",
    "MLB Batting     | `datasets/baseball-databank/data/Batting.csv`\n",
    "MLB Teams       | `datasets/baseball-databank/data/Teams.csv`\n",
    "\n",
    "\n",
    "\n",
    "## Suggested Schedule\n",
    "\n",
    "### Monday\n",
    "- Videos\n",
    "- Lab Notebooks\n",
    "\n",
    "### Tuesday\n",
    "- Practices Notebooks\n",
    "\n",
    "### Wednesday\n",
    "- Discussion\n",
    "\n",
    "### Thursday\n",
    "- Discussion Responses\n",
    "\n",
    "### Friday/Saturday/Sunday/Monday/Tuesday\n",
    "- Exercises"
   ]
  },
  {
   "cell_type": "code",
   "execution_count": null,
   "metadata": {
    "collapsed": true
   },
   "outputs": [],
   "source": []
  }
 ],
 "metadata": {
  "kernelspec": {
   "display_name": "Python 3",
   "language": "python",
   "name": "python3"
  },
  "language_info": {
   "codemirror_mode": {
    "name": "ipython",
    "version": 3
   },
   "file_extension": ".py",
   "mimetype": "text/x-python",
   "name": "python",
   "nbconvert_exporter": "python",
   "pygments_lexer": "ipython3",
   "version": "3.4.3"
  }
 },
 "nbformat": 4,
 "nbformat_minor": 0
}
