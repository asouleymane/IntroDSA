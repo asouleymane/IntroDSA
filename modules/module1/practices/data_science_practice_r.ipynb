{
 "cells": [
  {
   "cell_type": "markdown",
   "metadata": {},
   "source": [
    "## Read in the Data"
   ]
  },
  {
   "cell_type": "code",
   "execution_count": 5,
   "metadata": {
    "collapsed": true
   },
   "outputs": [],
   "source": [
    "df <- read.csv('../../../datasets/baby-names/NationalNames2.csv')"
   ]
  },
  {
   "cell_type": "markdown",
   "metadata": {},
   "source": [
    "Now that the data is read in, how would you remove the `Id` column from the dataframe in `R`. Remember, `R` is very flexible so there are several ways to remove columns. Do the following:\n",
    "\n",
    "**Activity 1**: Remove the column `Id` from the dataframe and rename this data frame, `df`.\n",
    "\n",
    "**Activity 2**: Find the dimensions (the number of rows and columns) of this updated data frame. *Hint: You will have to look up the function to do this as it was not mentioned in the lab*. \n",
    "\n",
    "**Activity 3**: Display the ***last*** 10 columns of the updated data frame."
   ]
  },
  {
   "cell_type": "code",
   "execution_count": 1,
   "metadata": {
    "collapsed": true
   },
   "outputs": [],
   "source": [
    "#' Code for Activity 1 goes here -----------------------\n",
    "\n",
    "\n"
   ]
  },
  {
   "cell_type": "code",
   "execution_count": 2,
   "metadata": {
    "collapsed": true
   },
   "outputs": [],
   "source": [
    "#' Code for Activity 2 goes here -----------------------\n",
    "\n",
    "\n"
   ]
  },
  {
   "cell_type": "code",
   "execution_count": 3,
   "metadata": {
    "collapsed": true
   },
   "outputs": [],
   "source": [
    "#' Code for Activity 3 goes here -----------------------\n",
    "\n",
    "\n"
   ]
  },
  {
   "cell_type": "markdown",
   "metadata": {},
   "source": [
    "Below is one of the ways that you can subset a data frame based. Run the code below to see what it returns."
   ]
  },
  {
   "cell_type": "code",
   "execution_count": 7,
   "metadata": {
    "collapsed": false
   },
   "outputs": [
    {
     "data": {
      "text/html": [
       "<table>\n",
       "<thead><tr><th></th><th scope=col>Id</th><th scope=col>Name</th><th scope=col>Year</th><th scope=col>Gender</th><th scope=col>Count</th></tr></thead>\n",
       "<tbody>\n",
       "\t<tr><th scope=row>330</th><td>946    </td><td>Charles</td><td>1880   </td><td>M      </td><td>5348   </td></tr>\n",
       "\t<tr><th scope=row>331</th><td>950   </td><td>Thomas</td><td>1880  </td><td>M     </td><td>2534  </td></tr>\n",
       "\t<tr><th scope=row>985</th><td>2941 </td><td>James</td><td>1881 </td><td>M    </td><td>5442 </td></tr>\n",
       "\t<tr><th scope=row>986</th><td>2944 </td><td>Frank</td><td>1881 </td><td>M    </td><td>2834 </td></tr>\n",
       "\t<tr><th scope=row>987</th><td>2947  </td><td>Thomas</td><td>1881  </td><td>M     </td><td>2282  </td></tr>\n",
       "\t<tr><th scope=row>988</th><td>2949  </td><td>Robert</td><td>1881  </td><td>M     </td><td>2140  </td></tr>\n",
       "</tbody>\n",
       "</table>\n"
      ],
      "text/latex": [
       "\\begin{tabular}{r|lllll}\n",
       "  & Id & Name & Year & Gender & Count\\\\\n",
       "\\hline\n",
       "\t330 & 946     & Charles & 1880    & M       & 5348   \\\\\n",
       "\t331 & 950    & Thomas & 1880   & M      & 2534  \\\\\n",
       "\t985 & 2941  & James & 1881  & M     & 5442 \\\\\n",
       "\t986 & 2944  & Frank & 1881  & M     & 2834 \\\\\n",
       "\t987 & 2947   & Thomas & 1881   & M      & 2282  \\\\\n",
       "\t988 & 2949   & Robert & 1881   & M      & 2140  \\\\\n",
       "\\end{tabular}\n"
      ],
      "text/plain": [
       "      Id    Name Year Gender Count\n",
       "330  946 Charles 1880      M  5348\n",
       "331  950  Thomas 1880      M  2534\n",
       "985 2941   James 1881      M  5442\n",
       "986 2944   Frank 1881      M  2834\n",
       "987 2947  Thomas 1881      M  2282\n",
       "988 2949  Robert 1881      M  2140"
      ]
     },
     "metadata": {},
     "output_type": "display_data"
    }
   ],
   "source": [
    "head(df[df$Count > 2000,])"
   ]
  },
  {
   "cell_type": "markdown",
   "metadata": {},
   "source": [
    "The bit of code only returns the first few rows of data but, in reality, there are lot more rows.\n",
    "\n",
    "**Activity 4**: *Find out how many rows where the `Count` is greater than 2000.*"
   ]
  },
  {
   "cell_type": "code",
   "execution_count": 8,
   "metadata": {
    "collapsed": true
   },
   "outputs": [],
   "source": [
    "#' Code for Activity 4 goes here -----------------------\n",
    "\n"
   ]
  },
  {
   "cell_type": "markdown",
   "metadata": {},
   "source": [
    "Now let's say that we were interested in only male names, particularly those names that are popular and not so popular.\n",
    "\n",
    "**Activity 5**: subset the data set for rows where the gender is male and the count is above 2000 and below 100."
   ]
  },
  {
   "cell_type": "code",
   "execution_count": null,
   "metadata": {
    "collapsed": true
   },
   "outputs": [],
   "source": [
    "#' Code for Activity 5 goes here -----------------------\n",
    "\n"
   ]
  },
  {
   "cell_type": "markdown",
   "metadata": {},
   "source": [
    "Imagine we were interested in names during a certain time period and we didn't need any of the data for the years were were not interested in. Let's say we were interested in names from the year 1950 through 1965. Below is one way to subset based on a specific year."
   ]
  },
  {
   "cell_type": "code",
   "execution_count": 13,
   "metadata": {
    "collapsed": false
   },
   "outputs": [
    {
     "data": {
      "text/html": [
       "<table>\n",
       "<thead><tr><th></th><th scope=col>Id</th><th scope=col>Name</th><th scope=col>Year</th><th scope=col>Gender</th><th scope=col>Count</th></tr></thead>\n",
       "<tbody>\n",
       "\t<tr><th scope=row>153876</th><td>461923</td><td>Mary  </td><td>1950  </td><td>F     </td><td>65460 </td></tr>\n",
       "\t<tr><th scope=row>153877</th><td>461927</td><td>Nancy </td><td>1950  </td><td>F     </td><td>29621 </td></tr>\n",
       "\t<tr><th scope=row>153878</th><td>461928 </td><td>Deborah</td><td>1950   </td><td>F      </td><td>29071  </td></tr>\n",
       "\t<tr><th scope=row>153879</th><td>461929</td><td>Sandra</td><td>1950  </td><td>F     </td><td>28893 </td></tr>\n",
       "\t<tr><th scope=row>153880</th><td>461933</td><td>Karen </td><td>1950  </td><td>F     </td><td>24139 </td></tr>\n",
       "\t<tr><th scope=row>153881</th><td>461938</td><td>Pamela</td><td>1950  </td><td>F     </td><td>16200 </td></tr>\n",
       "</tbody>\n",
       "</table>\n"
      ],
      "text/latex": [
       "\\begin{tabular}{r|lllll}\n",
       "  & Id & Name & Year & Gender & Count\\\\\n",
       "\\hline\n",
       "\t153876 & 461923 & Mary   & 1950   & F      & 65460 \\\\\n",
       "\t153877 & 461927 & Nancy  & 1950   & F      & 29621 \\\\\n",
       "\t153878 & 461928  & Deborah & 1950    & F       & 29071  \\\\\n",
       "\t153879 & 461929 & Sandra & 1950   & F      & 28893 \\\\\n",
       "\t153880 & 461933 & Karen  & 1950   & F      & 24139 \\\\\n",
       "\t153881 & 461938 & Pamela & 1950   & F      & 16200 \\\\\n",
       "\\end{tabular}\n"
      ],
      "text/plain": [
       "           Id    Name Year Gender Count\n",
       "153876 461923    Mary 1950      F 65460\n",
       "153877 461927   Nancy 1950      F 29621\n",
       "153878 461928 Deborah 1950      F 29071\n",
       "153879 461929  Sandra 1950      F 28893\n",
       "153880 461933   Karen 1950      F 24139\n",
       "153881 461938  Pamela 1950      F 16200"
      ]
     },
     "metadata": {},
     "output_type": "display_data"
    },
    {
     "data": {
      "text/html": [
       "<table>\n",
       "<thead><tr><th></th><th scope=col>Id</th><th scope=col>Name</th><th scope=col>Year</th><th scope=col>Gender</th><th scope=col>Count</th></tr></thead>\n",
       "<tbody>\n",
       "\t<tr><th scope=row>211248</th><td>633425  </td><td>Patricia</td><td>1965    </td><td>F       </td><td>23554   </td></tr>\n",
       "\t<tr><th scope=row>211249</th><td>633427</td><td>Linda </td><td>1965  </td><td>F     </td><td>19339 </td></tr>\n",
       "\t<tr><th scope=row>211250</th><td>633437  </td><td>Michelle</td><td>1965    </td><td>F       </td><td>16215   </td></tr>\n",
       "\t<tr><th scope=row>211251</th><td>633438</td><td>Lori  </td><td>1965  </td><td>F     </td><td>15698 </td></tr>\n",
       "\t<tr><th scope=row>211252</th><td>633443</td><td>Teresa</td><td>1965  </td><td>F     </td><td>14578 </td></tr>\n",
       "\t<tr><th scope=row>211253</th><td>633444 </td><td>Barbara</td><td>1965   </td><td>F      </td><td>14026  </td></tr>\n",
       "</tbody>\n",
       "</table>\n"
      ],
      "text/latex": [
       "\\begin{tabular}{r|lllll}\n",
       "  & Id & Name & Year & Gender & Count\\\\\n",
       "\\hline\n",
       "\t211248 & 633425   & Patricia & 1965     & F        & 23554   \\\\\n",
       "\t211249 & 633427 & Linda  & 1965   & F      & 19339 \\\\\n",
       "\t211250 & 633437   & Michelle & 1965     & F        & 16215   \\\\\n",
       "\t211251 & 633438 & Lori   & 1965   & F      & 15698 \\\\\n",
       "\t211252 & 633443 & Teresa & 1965   & F      & 14578 \\\\\n",
       "\t211253 & 633444  & Barbara & 1965    & F       & 14026  \\\\\n",
       "\\end{tabular}\n"
      ],
      "text/plain": [
       "           Id     Name Year Gender Count\n",
       "211248 633425 Patricia 1965      F 23554\n",
       "211249 633427    Linda 1965      F 19339\n",
       "211250 633437 Michelle 1965      F 16215\n",
       "211251 633438     Lori 1965      F 15698\n",
       "211252 633443   Teresa 1965      F 14578\n",
       "211253 633444  Barbara 1965      F 14026"
      ]
     },
     "metadata": {},
     "output_type": "display_data"
    }
   ],
   "source": [
    "df1950 <- head(df[df$Year == 1950,])\n",
    "df1965 <- head(df[df$Year == 1965,])\n",
    "\n",
    "comb <- rbind(df1950,df1965)\n",
    "\n",
    "head(comb);tail(comb)"
   ]
  },
  {
   "cell_type": "markdown",
   "metadata": {},
   "source": [
    "**Questions**\n",
    "1. What does the `rbind` function do?\n",
    "2. Describe what the code above is doing."
   ]
  },
  {
   "cell_type": "markdown",
   "metadata": {},
   "source": [
    "Well, the above code would be extremely inefficient when trying to find all of the names between the years 1950 and 1965. How might you subset the data frame based off names between the year 1950 through 1965 without subsetting each year seperately. \n",
    "\n",
    "**Activity 6**: *Subset the data frame based off names between the year 1950 through 1965 without subsetting each year seperately.*"
   ]
  },
  {
   "cell_type": "code",
   "execution_count": null,
   "metadata": {
    "collapsed": true
   },
   "outputs": [],
   "source": [
    "#' Code for Activity 6 goes here -----------------------\n",
    "\n"
   ]
  },
  {
   "cell_type": "markdown",
   "metadata": {},
   "source": [
    "## A Bit of Sorting\n",
    "\n",
    "3. Sort the dataframe based on `Count`. Then ask the students to sort dataframe based on `Name` where the names starting with Z are at the top of the dataframe."
   ]
  },
  {
   "cell_type": "code",
   "execution_count": 17,
   "metadata": {
    "collapsed": false
   },
   "outputs": [
    {
     "data": {
      "text/html": [
       "<table>\n",
       "<thead><tr><th></th><th scope=col>Id</th><th scope=col>Name</th><th scope=col>Year</th><th scope=col>Gender</th><th scope=col>Count</th></tr></thead>\n",
       "<tbody>\n",
       "\t<tr><th scope=row>295</th><td>838     </td><td>Adrienne</td><td>1880    </td><td>F       </td><td>5       </td></tr>\n",
       "\t<tr><th scope=row>296</th><td>839      </td><td>Albertine</td><td>1880     </td><td>F        </td><td>5        </td></tr>\n",
       "\t<tr><th scope=row>297</th><td>840 </td><td>Alys</td><td>1880</td><td>F   </td><td>5   </td></tr>\n",
       "\t<tr><th scope=row>298</th><td>847  </td><td>Celie</td><td>1880 </td><td>F    </td><td>5    </td></tr>\n",
       "\t<tr><th scope=row>299</th><td>851     </td><td>Cordella</td><td>1880    </td><td>F       </td><td>5       </td></tr>\n",
       "\t<tr><th scope=row>300</th><td>852    </td><td>Corrine</td><td>1880   </td><td>F      </td><td>5      </td></tr>\n",
       "</tbody>\n",
       "</table>\n"
      ],
      "text/latex": [
       "\\begin{tabular}{r|lllll}\n",
       "  & Id & Name & Year & Gender & Count\\\\\n",
       "\\hline\n",
       "\t295 & 838      & Adrienne & 1880     & F        & 5       \\\\\n",
       "\t296 & 839       & Albertine & 1880      & F         & 5        \\\\\n",
       "\t297 & 840  & Alys & 1880 & F    & 5   \\\\\n",
       "\t298 & 847   & Celie & 1880  & F     & 5    \\\\\n",
       "\t299 & 851      & Cordella & 1880     & F        & 5       \\\\\n",
       "\t300 & 852     & Corrine & 1880    & F       & 5      \\\\\n",
       "\\end{tabular}\n"
      ],
      "text/plain": [
       "     Id      Name Year Gender Count\n",
       "295 838  Adrienne 1880      F     5\n",
       "296 839 Albertine 1880      F     5\n",
       "297 840      Alys 1880      F     5\n",
       "298 847     Celie 1880      F     5\n",
       "299 851  Cordella 1880      F     5\n",
       "300 852   Corrine 1880      F     5"
      ]
     },
     "metadata": {},
     "output_type": "display_data"
    }
   ],
   "source": [
    "head(df[order(df$Count),])"
   ]
  },
  {
   "cell_type": "markdown",
   "metadata": {},
   "source": [
    "The code above sorts the data frame based of `Count`, but we can also sort the data alphabetically off of a column of strings.\n",
    "\n",
    "**Activity 7**: Sort the data frame based on `Name` where the names starting with \"Z\" are on the top of the frame."
   ]
  },
  {
   "cell_type": "code",
   "execution_count": null,
   "metadata": {
    "collapsed": true
   },
   "outputs": [],
   "source": [
    "#' Code for Activity 7 goes here -----------------------\n",
    "\n"
   ]
  },
  {
   "cell_type": "markdown",
   "metadata": {},
   "source": [
    "## Manipulating data with dplyr\n",
    "\n",
    "`dplyr` makes manipulating data a bit simpler. Take a look at the code below."
   ]
  },
  {
   "cell_type": "code",
   "execution_count": 21,
   "metadata": {
    "collapsed": false
   },
   "outputs": [
    {
     "data": {
      "text/html": [
       "<table>\n",
       "<thead><tr><th></th><th scope=col>Id</th><th scope=col>Name</th><th scope=col>Year</th><th scope=col>Gender</th><th scope=col>Count</th></tr></thead>\n",
       "<tbody>\n",
       "\t<tr><th scope=row>1</th><td>482689</td><td>Linda </td><td>1952  </td><td>F     </td><td>67096 </td></tr>\n",
       "\t<tr><th scope=row>2</th><td>493345</td><td>Linda </td><td>1953  </td><td>F     </td><td>61244 </td></tr>\n",
       "\t<tr><th scope=row>3</th><td>421351</td><td>Linda </td><td>1946  </td><td>F     </td><td>52708 </td></tr>\n",
       "\t<tr><th scope=row>4</th><td>515139</td><td>Linda </td><td>1955  </td><td>F     </td><td>51275 </td></tr>\n",
       "\t<tr><th scope=row>5</th><td>537594</td><td>Linda </td><td>1957  </td><td>F     </td><td>44496 </td></tr>\n",
       "\t<tr><th scope=row>6</th><td>412326</td><td>Linda </td><td>1945  </td><td>F     </td><td>41465 </td></tr>\n",
       "</tbody>\n",
       "</table>\n"
      ],
      "text/latex": [
       "\\begin{tabular}{r|lllll}\n",
       "  & Id & Name & Year & Gender & Count\\\\\n",
       "\\hline\n",
       "\t1 & 482689 & Linda  & 1952   & F      & 67096 \\\\\n",
       "\t2 & 493345 & Linda  & 1953   & F      & 61244 \\\\\n",
       "\t3 & 421351 & Linda  & 1946   & F      & 52708 \\\\\n",
       "\t4 & 515139 & Linda  & 1955   & F      & 51275 \\\\\n",
       "\t5 & 537594 & Linda  & 1957   & F      & 44496 \\\\\n",
       "\t6 & 412326 & Linda  & 1945   & F      & 41465 \\\\\n",
       "\\end{tabular}\n"
      ],
      "text/plain": [
       "      Id  Name Year Gender Count\n",
       "1 482689 Linda 1952      F 67096\n",
       "2 493345 Linda 1953      F 61244\n",
       "3 421351 Linda 1946      F 52708\n",
       "4 515139 Linda 1955      F 51275\n",
       "5 537594 Linda 1957      F 44496\n",
       "6 412326 Linda 1945      F 41465"
      ]
     },
     "metadata": {},
     "output_type": "display_data"
    }
   ],
   "source": [
    "library(dplyr)\n",
    "df %>%\n",
    "    filter(Name == \"Linda\") %>%\n",
    "    arrange(-Count) %>%\n",
    "    head()"
   ]
  },
  {
   "cell_type": "markdown",
   "metadata": {},
   "source": [
    "**Questions**\n",
    "1. Describe what the code above is doing."
   ]
  },
  {
   "cell_type": "markdown",
   "metadata": {},
   "source": [
    "There is a lot more that you can do with `dplyr` such as renaming column names.\n",
    "\n",
    "**Activity 8**: *Copy the code above, but rename each of the columns so that the headers begin with lowercase letters. Name this data frame 'df_lower`.*\n",
    "\n",
    "**Activity 9**: *Now, on the `df_lower` frame, remove the `gender` column.*"
   ]
  },
  {
   "cell_type": "code",
   "execution_count": 22,
   "metadata": {
    "collapsed": true
   },
   "outputs": [],
   "source": [
    "#' Code for Activity 8 goes here -----------------------\n"
   ]
  },
  {
   "cell_type": "code",
   "execution_count": 23,
   "metadata": {
    "collapsed": true
   },
   "outputs": [],
   "source": [
    "#' Code for Activity 9 goes here -----------------------\n"
   ]
  },
  {
   "cell_type": "markdown",
   "metadata": {},
   "source": [
    "**Activity 10**: *Using `dplyr`, select rows based on both the names \"Linda\" and \"John\".*"
   ]
  },
  {
   "cell_type": "code",
   "execution_count": 24,
   "metadata": {
    "collapsed": true
   },
   "outputs": [],
   "source": [
    "#' Code for Activity 10 goes here -----------------------\n"
   ]
  },
  {
   "cell_type": "markdown",
   "metadata": {},
   "source": [
    "**Challenge Activity 1**: *Use `dplyr` to find the max Count per year per name (both Linda and John).*"
   ]
  },
  {
   "cell_type": "code",
   "execution_count": 25,
   "metadata": {
    "collapsed": true
   },
   "outputs": [],
   "source": [
    "#' Code for Challenge Activity 1 goes here -----------------------\n",
    "\n"
   ]
  },
  {
   "cell_type": "code",
   "execution_count": null,
   "metadata": {
    "collapsed": true
   },
   "outputs": [],
   "source": []
  }
 ],
 "metadata": {
  "kernelspec": {
   "display_name": "R",
   "language": "R",
   "name": "ir"
  },
  "language_info": {
   "codemirror_mode": "r",
   "file_extension": ".r",
   "mimetype": "text/x-r-source",
   "name": "R",
   "pygments_lexer": "r",
   "version": "3.3.1"
  }
 },
 "nbformat": 4,
 "nbformat_minor": 0
}
