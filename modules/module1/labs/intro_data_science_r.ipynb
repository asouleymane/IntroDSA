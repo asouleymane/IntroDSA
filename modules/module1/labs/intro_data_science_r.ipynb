{
 "cells": [
  {
   "cell_type": "markdown",
   "metadata": {},
   "source": [
    "# Intro to Data Science with `R`\n",
    "\n",
    "<img src=\"../images/r_logo.png\\\">"
   ]
  },
  {
   "cell_type": "markdown",
   "metadata": {},
   "source": [
    "### Read in data"
   ]
  },
  {
   "cell_type": "code",
   "execution_count": 1,
   "metadata": {
    "collapsed": true
   },
   "outputs": [],
   "source": [
    "df <- read.csv('../../../datasets/baby-names/NationalNames1.csv')\n",
    "df <- subset(df, select = -Id)"
   ]
  },
  {
   "cell_type": "markdown",
   "metadata": {},
   "source": [
    "Remember the data frame? Well, it returns in R, as promised. The `read.csv` function creates a data frame from the file you just read in. In the above example, we read in the data set, `NationalNames1.csv` and then remove the `Id` column by running the `subset` function. Take a look at the first few rows below..."
   ]
  },
  {
   "cell_type": "code",
   "execution_count": 2,
   "metadata": {
    "collapsed": false
   },
   "outputs": [
    {
     "data": {
      "text/html": [
       "<table>\n",
       "<thead><tr><th></th><th scope=col>Name</th><th scope=col>Year</th><th scope=col>Gender</th><th scope=col>Count</th></tr></thead>\n",
       "<tbody>\n",
       "\t<tr><th scope=row>1</th><td>Anna</td><td>1880</td><td>F   </td><td>2604</td></tr>\n",
       "\t<tr><th scope=row>2</th><td>Emma</td><td>1880</td><td>F   </td><td>2003</td></tr>\n",
       "\t<tr><th scope=row>3</th><td>Margaret</td><td>1880    </td><td>F       </td><td>1578    </td></tr>\n",
       "\t<tr><th scope=row>4</th><td>Sarah</td><td>1880 </td><td>F    </td><td>1288 </td></tr>\n",
       "\t<tr><th scope=row>5</th><td>Annie</td><td>1880 </td><td>F    </td><td>1258 </td></tr>\n",
       "\t<tr><th scope=row>6</th><td>Florence</td><td>1880    </td><td>F       </td><td>1063    </td></tr>\n",
       "</tbody>\n",
       "</table>\n"
      ],
      "text/latex": [
       "\\begin{tabular}{r|llll}\n",
       "  & Name & Year & Gender & Count\\\\\n",
       "\\hline\n",
       "\t1 & Anna & 1880 & F    & 2604\\\\\n",
       "\t2 & Emma & 1880 & F    & 2003\\\\\n",
       "\t3 & Margaret & 1880     & F        & 1578    \\\\\n",
       "\t4 & Sarah & 1880  & F     & 1288 \\\\\n",
       "\t5 & Annie & 1880  & F     & 1258 \\\\\n",
       "\t6 & Florence & 1880     & F        & 1063    \\\\\n",
       "\\end{tabular}\n"
      ],
      "text/plain": [
       "      Name Year Gender Count\n",
       "1     Anna 1880      F  2604\n",
       "2     Emma 1880      F  2003\n",
       "3 Margaret 1880      F  1578\n",
       "4    Sarah 1880      F  1288\n",
       "5    Annie 1880      F  1258\n",
       "6 Florence 1880      F  1063"
      ]
     },
     "metadata": {},
     "output_type": "display_data"
    }
   ],
   "source": [
    "head(df)"
   ]
  },
  {
   "cell_type": "markdown",
   "metadata": {},
   "source": [
    "In both `R` and `Python`, the data frame tries to interpret the datatype of each field automatically. This is a really convenient feature as it means we don't have to spend a whole lot of time trying to convert our data into the appropriate types. "
   ]
  },
  {
   "cell_type": "code",
   "execution_count": 3,
   "metadata": {
    "collapsed": false
   },
   "outputs": [
    {
     "data": {
      "text/html": [
       "<dl class=dl-horizontal>\n",
       "\t<dt>Name</dt>\n",
       "\t\t<dd>'factor'</dd>\n",
       "\t<dt>Year</dt>\n",
       "\t\t<dd>'integer'</dd>\n",
       "\t<dt>Gender</dt>\n",
       "\t\t<dd>'factor'</dd>\n",
       "\t<dt>Count</dt>\n",
       "\t\t<dd>'integer'</dd>\n",
       "</dl>\n"
      ],
      "text/latex": [
       "\\begin{description*}\n",
       "\\item[Name] 'factor'\n",
       "\\item[Year] 'integer'\n",
       "\\item[Gender] 'factor'\n",
       "\\item[Count] 'integer'\n",
       "\\end{description*}\n"
      ],
      "text/markdown": [
       "Name\n",
       ":   'factor'Year\n",
       ":   'integer'Gender\n",
       ":   'factor'Count\n",
       ":   'integer'\n",
       "\n"
      ],
      "text/plain": [
       "     Name      Year    Gender     Count \n",
       " \"factor\" \"integer\"  \"factor\" \"integer\" "
      ]
     },
     "metadata": {},
     "output_type": "display_data"
    }
   ],
   "source": [
    "sapply(df, class)"
   ]
  },
  {
   "cell_type": "markdown",
   "metadata": {},
   "source": [
    "`sapply` is a function that applies a function accross each column in a data frame and returns the generated output for each column. In this case, it applies the `class` function to find the data type for each column. "
   ]
  },
  {
   "cell_type": "markdown",
   "metadata": {},
   "source": [
    "## Subsetting\n",
    "\n",
    "Subsetting allows us to narrow down the scope of our analysis. It removes any data that we deem unnecessary, which, in turn, permits our code to run faster.\n",
    "\n",
    "One thing that you will begin to notice about `R` is how flexible it is. There is often several ways to do the same thing. Subsetting is a prime example of this."
   ]
  },
  {
   "cell_type": "code",
   "execution_count": 4,
   "metadata": {
    "collapsed": false
   },
   "outputs": [],
   "source": [
    "female <- subset(df, Gender == 'F')\n",
    "male <- subset(df, Gender == 'M' )"
   ]
  },
  {
   "cell_type": "markdown",
   "metadata": {},
   "source": [
    "Above is an example of subsetting the entire data frame into two separate data frames based on `Gender`. Here we call the `subset` function which takes the data frame as its first parameter, then some conditional statements based on column header names. We could also call more conditions by adding the `&` or `|` operaters. For example, if I wanted all rows in the data frame that were in the year 1880 and had a count greater than or equal to 2000, it would look like this...\n",
    "\n",
    "```splus\n",
    "subset(df, Year == 1880 & Count >= 2000)\n",
    "```\n",
    "\n",
    "or you could do this..."
   ]
  },
  {
   "cell_type": "code",
   "execution_count": 5,
   "metadata": {
    "collapsed": false
   },
   "outputs": [],
   "source": [
    "year1880 <- df[df$Year == 1880 & df$Count >= 2000,]"
   ]
  },
  {
   "cell_type": "markdown",
   "metadata": {},
   "source": [
    "That is one thing about `R`, it is very flexible; we find ourselves often finding multiple solutions to the same problem. Go ahead and run the next line to see what that data frame looks like."
   ]
  },
  {
   "cell_type": "code",
   "execution_count": 6,
   "metadata": {
    "collapsed": false
   },
   "outputs": [
    {
     "data": {
      "text/html": [
       "<table>\n",
       "<thead><tr><th></th><th scope=col>Name</th><th scope=col>Year</th><th scope=col>Gender</th><th scope=col>Count</th></tr></thead>\n",
       "<tbody>\n",
       "\t<tr><th scope=row>1</th><td>Anna</td><td>1880</td><td>F   </td><td>2604</td></tr>\n",
       "\t<tr><th scope=row>2</th><td>Emma</td><td>1880</td><td>F   </td><td>2003</td></tr>\n",
       "\t<tr><th scope=row>293</th><td>George</td><td>1880  </td><td>M     </td><td>5126  </td></tr>\n",
       "\t<tr><th scope=row>294</th><td>Henry</td><td>1880 </td><td>M    </td><td>2444 </td></tr>\n",
       "\t<tr><th scope=row>295</th><td>Edward</td><td>1880  </td><td>M     </td><td>2364  </td></tr>\n",
       "\t<tr><th scope=row>296</th><td>Harry</td><td>1880 </td><td>M    </td><td>2152 </td></tr>\n",
       "</tbody>\n",
       "</table>\n"
      ],
      "text/latex": [
       "\\begin{tabular}{r|llll}\n",
       "  & Name & Year & Gender & Count\\\\\n",
       "\\hline\n",
       "\t1 & Anna & 1880 & F    & 2604\\\\\n",
       "\t2 & Emma & 1880 & F    & 2003\\\\\n",
       "\t293 & George & 1880   & M      & 5126  \\\\\n",
       "\t294 & Henry & 1880  & M     & 2444 \\\\\n",
       "\t295 & Edward & 1880   & M      & 2364  \\\\\n",
       "\t296 & Harry & 1880  & M     & 2152 \\\\\n",
       "\\end{tabular}\n"
      ],
      "text/plain": [
       "      Name Year Gender Count\n",
       "1     Anna 1880      F  2604\n",
       "2     Emma 1880      F  2003\n",
       "293 George 1880      M  5126\n",
       "294  Henry 1880      M  2444\n",
       "295 Edward 1880      M  2364\n",
       "296  Harry 1880      M  2152"
      ]
     },
     "metadata": {},
     "output_type": "display_data"
    }
   ],
   "source": [
    "head(year1880)"
   ]
  },
  {
   "cell_type": "markdown",
   "metadata": {},
   "source": [
    "## Sorting\n",
    "\n",
    "We can also sort data frames based on the values in a column or multiple columns. In the following example, we sort the dataframe by Count in descending order and by Year in ascending order. We'll go ahead and call this sorted data frame `sorted`."
   ]
  },
  {
   "cell_type": "code",
   "execution_count": 7,
   "metadata": {
    "collapsed": false
   },
   "outputs": [],
   "source": [
    "sorted <- df[order(-df$Count & df$Year),]"
   ]
  },
  {
   "cell_type": "markdown",
   "metadata": {},
   "source": [
    "and let's see what that looks like..."
   ]
  },
  {
   "cell_type": "code",
   "execution_count": 8,
   "metadata": {
    "collapsed": false
   },
   "outputs": [
    {
     "data": {
      "text/html": [
       "<table>\n",
       "<thead><tr><th></th><th scope=col>Name</th><th scope=col>Year</th><th scope=col>Gender</th><th scope=col>Count</th></tr></thead>\n",
       "<tbody>\n",
       "\t<tr><th scope=row>1</th><td>Anna</td><td>1880</td><td>F   </td><td>2604</td></tr>\n",
       "\t<tr><th scope=row>2</th><td>Emma</td><td>1880</td><td>F   </td><td>2003</td></tr>\n",
       "\t<tr><th scope=row>3</th><td>Margaret</td><td>1880    </td><td>F       </td><td>1578    </td></tr>\n",
       "\t<tr><th scope=row>4</th><td>Sarah</td><td>1880 </td><td>F    </td><td>1288 </td></tr>\n",
       "\t<tr><th scope=row>5</th><td>Annie</td><td>1880 </td><td>F    </td><td>1258 </td></tr>\n",
       "\t<tr><th scope=row>6</th><td>Florence</td><td>1880    </td><td>F       </td><td>1063    </td></tr>\n",
       "</tbody>\n",
       "</table>\n"
      ],
      "text/latex": [
       "\\begin{tabular}{r|llll}\n",
       "  & Name & Year & Gender & Count\\\\\n",
       "\\hline\n",
       "\t1 & Anna & 1880 & F    & 2604\\\\\n",
       "\t2 & Emma & 1880 & F    & 2003\\\\\n",
       "\t3 & Margaret & 1880     & F        & 1578    \\\\\n",
       "\t4 & Sarah & 1880  & F     & 1288 \\\\\n",
       "\t5 & Annie & 1880  & F     & 1258 \\\\\n",
       "\t6 & Florence & 1880     & F        & 1063    \\\\\n",
       "\\end{tabular}\n"
      ],
      "text/plain": [
       "      Name Year Gender Count\n",
       "1     Anna 1880      F  2604\n",
       "2     Emma 1880      F  2003\n",
       "3 Margaret 1880      F  1578\n",
       "4    Sarah 1880      F  1288\n",
       "5    Annie 1880      F  1258\n",
       "6 Florence 1880      F  1063"
      ]
     },
     "metadata": {},
     "output_type": "display_data"
    },
    {
     "data": {
      "text/html": [
       "<table>\n",
       "<thead><tr><th></th><th scope=col>Name</th><th scope=col>Year</th><th scope=col>Gender</th><th scope=col>Count</th></tr></thead>\n",
       "<tbody>\n",
       "\t<tr><th scope=row>608398</th><td>Zeidan</td><td>2014  </td><td>M     </td><td>5     </td></tr>\n",
       "\t<tr><th scope=row>608399</th><td>Ziar</td><td>2014</td><td>M   </td><td>5   </td></tr>\n",
       "\t<tr><th scope=row>608400</th><td>Zichen</td><td>2014  </td><td>M     </td><td>5     </td></tr>\n",
       "\t<tr><th scope=row>608401</th><td>Ziden</td><td>2014 </td><td>M    </td><td>5    </td></tr>\n",
       "\t<tr><th scope=row>608402</th><td>Ziyah</td><td>2014 </td><td>M    </td><td>5    </td></tr>\n",
       "\t<tr><th scope=row>608403</th><td>Zykeem</td><td>2014  </td><td>M     </td><td>5     </td></tr>\n",
       "</tbody>\n",
       "</table>\n"
      ],
      "text/latex": [
       "\\begin{tabular}{r|llll}\n",
       "  & Name & Year & Gender & Count\\\\\n",
       "\\hline\n",
       "\t608398 & Zeidan & 2014   & M      & 5     \\\\\n",
       "\t608399 & Ziar & 2014 & M    & 5   \\\\\n",
       "\t608400 & Zichen & 2014   & M      & 5     \\\\\n",
       "\t608401 & Ziden & 2014  & M     & 5    \\\\\n",
       "\t608402 & Ziyah & 2014  & M     & 5    \\\\\n",
       "\t608403 & Zykeem & 2014   & M      & 5     \\\\\n",
       "\\end{tabular}\n"
      ],
      "text/plain": [
       "         Name Year Gender Count\n",
       "608398 Zeidan 2014      M     5\n",
       "608399   Ziar 2014      M     5\n",
       "608400 Zichen 2014      M     5\n",
       "608401  Ziden 2014      M     5\n",
       "608402  Ziyah 2014      M     5\n",
       "608403 Zykeem 2014      M     5"
      ]
     },
     "metadata": {},
     "output_type": "display_data"
    }
   ],
   "source": [
    "head(sorted) # the top few rows\n",
    "tail(sorted) # the bottom few rows"
   ]
  },
  {
   "cell_type": "markdown",
   "metadata": {},
   "source": [
    "So keep in mind that we just sorted the data frame based on two columns. Notice that there is a minus sign in front of the `df$Count`. This is specifying that we want the column to be sorted in *descending* order, or largest value to smallest value. The opposite would be *ascending* order, which is the default."
   ]
  },
  {
   "cell_type": "markdown",
   "metadata": {},
   "source": [
    "## Manipulating Data Frames with `dplyr`\n",
    "\n",
    "<img src=\"../images/dplyr.png\\\">\n",
    "\n",
    "`dplyr` is a very convenient data manipulation package. As you will see, it much of the functionality provided by this package should be familiar to you already. However, `dplyr` makes it managing data frames simpler through the use of its grammar and the ability to pipe functions together.  "
   ]
  },
  {
   "cell_type": "markdown",
   "metadata": {
    "collapsed": true
   },
   "source": [
    "### `dplyr` grammar"
   ]
  },
  {
   "cell_type": "markdown",
   "metadata": {},
   "source": [
    "#### `rename`\n",
    "\n",
    "The `rename` function is simple but extremely useful. All it does is allow you to rename the columns of a data frame, and although possible in base `R`, it is surprisingly difficult to do. `rename` takes the data frame as the first argument, and then any column whose name you want to change subsequently. For example, if you hate capital letters and you would prefer to name the `Name` column be `name`, the following in `dplyr` would allow you to do so:\n",
    "\n",
    "```splus\n",
    "rename(df, name = Name)\n",
    "```\n",
    "\n",
    "Now, let's try for ourselves."
   ]
  },
  {
   "cell_type": "code",
   "execution_count": 9,
   "metadata": {
    "collapsed": false
   },
   "outputs": [
    {
     "name": "stderr",
     "output_type": "stream",
     "text": [
      "\n",
      "Attaching package: ‘dplyr’\n",
      "\n",
      "The following objects are masked from ‘package:stats’:\n",
      "\n",
      "    filter, lag\n",
      "\n",
      "The following objects are masked from ‘package:base’:\n",
      "\n",
      "    intersect, setdiff, setequal, union\n",
      "\n"
     ]
    },
    {
     "name": "stdout",
     "output_type": "stream",
     "text": [
      "[1] \"Name\"   \"Year\"   \"Gender\" \"Count\" \n"
     ]
    },
    {
     "data": {
      "text/html": [
       "<table>\n",
       "<thead><tr><th></th><th scope=col>name</th><th scope=col>year</th><th scope=col>gender</th><th scope=col>count</th></tr></thead>\n",
       "<tbody>\n",
       "\t<tr><th scope=row>1</th><td>Anna</td><td>1880</td><td>F   </td><td>2604</td></tr>\n",
       "\t<tr><th scope=row>2</th><td>Emma</td><td>1880</td><td>F   </td><td>2003</td></tr>\n",
       "\t<tr><th scope=row>3</th><td>Margaret</td><td>1880    </td><td>F       </td><td>1578    </td></tr>\n",
       "\t<tr><th scope=row>4</th><td>Sarah</td><td>1880 </td><td>F    </td><td>1288 </td></tr>\n",
       "\t<tr><th scope=row>5</th><td>Annie</td><td>1880 </td><td>F    </td><td>1258 </td></tr>\n",
       "\t<tr><th scope=row>6</th><td>Florence</td><td>1880    </td><td>F       </td><td>1063    </td></tr>\n",
       "</tbody>\n",
       "</table>\n"
      ],
      "text/latex": [
       "\\begin{tabular}{r|llll}\n",
       "  & name & year & gender & count\\\\\n",
       "\\hline\n",
       "\t1 & Anna & 1880 & F    & 2604\\\\\n",
       "\t2 & Emma & 1880 & F    & 2003\\\\\n",
       "\t3 & Margaret & 1880     & F        & 1578    \\\\\n",
       "\t4 & Sarah & 1880  & F     & 1288 \\\\\n",
       "\t5 & Annie & 1880  & F     & 1258 \\\\\n",
       "\t6 & Florence & 1880     & F        & 1063    \\\\\n",
       "\\end{tabular}\n"
      ],
      "text/plain": [
       "      name year gender count\n",
       "1     Anna 1880      F  2604\n",
       "2     Emma 1880      F  2003\n",
       "3 Margaret 1880      F  1578\n",
       "4    Sarah 1880      F  1288\n",
       "5    Annie 1880      F  1258\n",
       "6 Florence 1880      F  1063"
      ]
     },
     "metadata": {},
     "output_type": "display_data"
    }
   ],
   "source": [
    "library(dplyr)\n",
    "\n",
    "print(names(df))\n",
    "head(rename(df, name = Name, year = Year, gender = Gender, count = Count ))"
   ]
  },
  {
   "cell_type": "markdown",
   "metadata": {},
   "source": [
    "#### **`select`**\n",
    "\n",
    "`select()` will return a subset of specified columns of a dataframe."
   ]
  },
  {
   "cell_type": "code",
   "execution_count": 10,
   "metadata": {
    "collapsed": false
   },
   "outputs": [
    {
     "data": {
      "text/html": [
       "<table>\n",
       "<thead><tr><th></th><th scope=col>Name</th><th scope=col>Year</th><th scope=col>Gender</th><th scope=col>Count</th></tr></thead>\n",
       "<tbody>\n",
       "\t<tr><th scope=row>1</th><td>Anna</td><td>1880</td><td>F   </td><td>2604</td></tr>\n",
       "\t<tr><th scope=row>2</th><td>Emma</td><td>1880</td><td>F   </td><td>2003</td></tr>\n",
       "\t<tr><th scope=row>3</th><td>Margaret</td><td>1880    </td><td>F       </td><td>1578    </td></tr>\n",
       "\t<tr><th scope=row>4</th><td>Sarah</td><td>1880 </td><td>F    </td><td>1288 </td></tr>\n",
       "\t<tr><th scope=row>5</th><td>Annie</td><td>1880 </td><td>F    </td><td>1258 </td></tr>\n",
       "\t<tr><th scope=row>6</th><td>Florence</td><td>1880    </td><td>F       </td><td>1063    </td></tr>\n",
       "</tbody>\n",
       "</table>\n"
      ],
      "text/latex": [
       "\\begin{tabular}{r|llll}\n",
       "  & Name & Year & Gender & Count\\\\\n",
       "\\hline\n",
       "\t1 & Anna & 1880 & F    & 2604\\\\\n",
       "\t2 & Emma & 1880 & F    & 2003\\\\\n",
       "\t3 & Margaret & 1880     & F        & 1578    \\\\\n",
       "\t4 & Sarah & 1880  & F     & 1288 \\\\\n",
       "\t5 & Annie & 1880  & F     & 1258 \\\\\n",
       "\t6 & Florence & 1880     & F        & 1063    \\\\\n",
       "\\end{tabular}\n"
      ],
      "text/plain": [
       "      Name Year Gender Count\n",
       "1     Anna 1880      F  2604\n",
       "2     Emma 1880      F  2003\n",
       "3 Margaret 1880      F  1578\n",
       "4    Sarah 1880      F  1288\n",
       "5    Annie 1880      F  1258\n",
       "6 Florence 1880      F  1063"
      ]
     },
     "metadata": {},
     "output_type": "display_data"
    },
    {
     "name": "stdout",
     "output_type": "stream",
     "text": [
      "[1] \"Just the Name\"\n"
     ]
    },
    {
     "data": {
      "text/html": [
       "<table>\n",
       "<thead><tr><th></th><th scope=col>Name</th></tr></thead>\n",
       "<tbody>\n",
       "\t<tr><th scope=row>1</th><td>Anna</td></tr>\n",
       "\t<tr><th scope=row>2</th><td>Emma</td></tr>\n",
       "\t<tr><th scope=row>3</th><td>Margaret</td></tr>\n",
       "\t<tr><th scope=row>4</th><td>Sarah</td></tr>\n",
       "\t<tr><th scope=row>5</th><td>Annie</td></tr>\n",
       "\t<tr><th scope=row>6</th><td>Florence</td></tr>\n",
       "</tbody>\n",
       "</table>\n"
      ],
      "text/latex": [
       "\\begin{tabular}{r|l}\n",
       "  & Name\\\\\n",
       "\\hline\n",
       "\t1 & Anna\\\\\n",
       "\t2 & Emma\\\\\n",
       "\t3 & Margaret\\\\\n",
       "\t4 & Sarah\\\\\n",
       "\t5 & Annie\\\\\n",
       "\t6 & Florence\\\\\n",
       "\\end{tabular}\n"
      ],
      "text/plain": [
       "      Name\n",
       "1     Anna\n",
       "2     Emma\n",
       "3 Margaret\n",
       "4    Sarah\n",
       "5    Annie\n",
       "6 Florence"
      ]
     },
     "metadata": {},
     "output_type": "display_data"
    },
    {
     "name": "stdout",
     "output_type": "stream",
     "text": [
      "[1] \"Name and Count\"\n"
     ]
    },
    {
     "data": {
      "text/html": [
       "<table>\n",
       "<thead><tr><th></th><th scope=col>Name</th><th scope=col>Count</th></tr></thead>\n",
       "<tbody>\n",
       "\t<tr><th scope=row>1</th><td>Anna</td><td>2604</td></tr>\n",
       "\t<tr><th scope=row>2</th><td>Emma</td><td>2003</td></tr>\n",
       "\t<tr><th scope=row>3</th><td>Margaret</td><td>1578    </td></tr>\n",
       "\t<tr><th scope=row>4</th><td>Sarah</td><td>1288 </td></tr>\n",
       "\t<tr><th scope=row>5</th><td>Annie</td><td>1258 </td></tr>\n",
       "\t<tr><th scope=row>6</th><td>Florence</td><td>1063    </td></tr>\n",
       "</tbody>\n",
       "</table>\n"
      ],
      "text/latex": [
       "\\begin{tabular}{r|ll}\n",
       "  & Name & Count\\\\\n",
       "\\hline\n",
       "\t1 & Anna & 2604\\\\\n",
       "\t2 & Emma & 2003\\\\\n",
       "\t3 & Margaret & 1578    \\\\\n",
       "\t4 & Sarah & 1288 \\\\\n",
       "\t5 & Annie & 1258 \\\\\n",
       "\t6 & Florence & 1063    \\\\\n",
       "\\end{tabular}\n"
      ],
      "text/plain": [
       "      Name Count\n",
       "1     Anna  2604\n",
       "2     Emma  2003\n",
       "3 Margaret  1578\n",
       "4    Sarah  1288\n",
       "5    Annie  1258\n",
       "6 Florence  1063"
      ]
     },
     "metadata": {},
     "output_type": "display_data"
    },
    {
     "name": "stdout",
     "output_type": "stream",
     "text": [
      "[1] \"Name through Gender\"\n"
     ]
    },
    {
     "data": {
      "text/html": [
       "<table>\n",
       "<thead><tr><th></th><th scope=col>Name</th><th scope=col>Year</th><th scope=col>Gender</th></tr></thead>\n",
       "<tbody>\n",
       "\t<tr><th scope=row>1</th><td>Anna</td><td>1880</td><td>F   </td></tr>\n",
       "\t<tr><th scope=row>2</th><td>Emma</td><td>1880</td><td>F   </td></tr>\n",
       "\t<tr><th scope=row>3</th><td>Margaret</td><td>1880    </td><td>F       </td></tr>\n",
       "\t<tr><th scope=row>4</th><td>Sarah</td><td>1880 </td><td>F    </td></tr>\n",
       "\t<tr><th scope=row>5</th><td>Annie</td><td>1880 </td><td>F    </td></tr>\n",
       "\t<tr><th scope=row>6</th><td>Florence</td><td>1880    </td><td>F       </td></tr>\n",
       "</tbody>\n",
       "</table>\n"
      ],
      "text/latex": [
       "\\begin{tabular}{r|lll}\n",
       "  & Name & Year & Gender\\\\\n",
       "\\hline\n",
       "\t1 & Anna & 1880 & F   \\\\\n",
       "\t2 & Emma & 1880 & F   \\\\\n",
       "\t3 & Margaret & 1880     & F       \\\\\n",
       "\t4 & Sarah & 1880  & F    \\\\\n",
       "\t5 & Annie & 1880  & F    \\\\\n",
       "\t6 & Florence & 1880     & F       \\\\\n",
       "\\end{tabular}\n"
      ],
      "text/plain": [
       "      Name Year Gender\n",
       "1     Anna 1880      F\n",
       "2     Emma 1880      F\n",
       "3 Margaret 1880      F\n",
       "4    Sarah 1880      F\n",
       "5    Annie 1880      F\n",
       "6 Florence 1880      F"
      ]
     },
     "metadata": {},
     "output_type": "display_data"
    },
    {
     "name": "stdout",
     "output_type": "stream",
     "text": [
      "[1] \"Remove the Year column\"\n"
     ]
    },
    {
     "data": {
      "text/html": [
       "<table>\n",
       "<thead><tr><th></th><th scope=col>Name</th><th scope=col>Gender</th><th scope=col>Count</th></tr></thead>\n",
       "<tbody>\n",
       "\t<tr><th scope=row>1</th><td>Anna</td><td>F   </td><td>2604</td></tr>\n",
       "\t<tr><th scope=row>2</th><td>Emma</td><td>F   </td><td>2003</td></tr>\n",
       "\t<tr><th scope=row>3</th><td>Margaret</td><td>F       </td><td>1578    </td></tr>\n",
       "\t<tr><th scope=row>4</th><td>Sarah</td><td>F    </td><td>1288 </td></tr>\n",
       "\t<tr><th scope=row>5</th><td>Annie</td><td>F    </td><td>1258 </td></tr>\n",
       "\t<tr><th scope=row>6</th><td>Florence</td><td>F       </td><td>1063    </td></tr>\n",
       "</tbody>\n",
       "</table>\n"
      ],
      "text/latex": [
       "\\begin{tabular}{r|lll}\n",
       "  & Name & Gender & Count\\\\\n",
       "\\hline\n",
       "\t1 & Anna & F    & 2604\\\\\n",
       "\t2 & Emma & F    & 2003\\\\\n",
       "\t3 & Margaret & F        & 1578    \\\\\n",
       "\t4 & Sarah & F     & 1288 \\\\\n",
       "\t5 & Annie & F     & 1258 \\\\\n",
       "\t6 & Florence & F        & 1063    \\\\\n",
       "\\end{tabular}\n"
      ],
      "text/plain": [
       "      Name Gender Count\n",
       "1     Anna      F  2604\n",
       "2     Emma      F  2003\n",
       "3 Margaret      F  1578\n",
       "4    Sarah      F  1288\n",
       "5    Annie      F  1258\n",
       "6 Florence      F  1063"
      ]
     },
     "metadata": {},
     "output_type": "display_data"
    }
   ],
   "source": [
    "head(df)\n",
    "\n",
    "# just the Name colume\n",
    "print(\"Just the Name\")\n",
    "select(head(df), Name)\n",
    "\n",
    "# select the name and count columns\n",
    "print(\"Name and Count\")\n",
    "select(head(df), c(Name,Count))\n",
    "\n",
    "# the Name column through Gender column\n",
    "print(\"Name through Gender\")\n",
    "select(head(df), (Name:Gender))\n",
    "\n",
    "# remove the Year column \n",
    "print(\"Remove the Year column\")\n",
    "select(head(df), -Year)"
   ]
  },
  {
   "cell_type": "markdown",
   "metadata": {},
   "source": [
    "the `select` function also includes some nice parameters to select certain columns based on partial string matches on the headers. For example, if we wanted to select all columns that ended with the letter 'r', we can just call the function `ends_with` within the `select` function itself. If we ran this on our `df` object, we should only expect to have the `Yea`**`r`** and `Gende`**`r`** columns returned. Let's see if that works..."
   ]
  },
  {
   "cell_type": "code",
   "execution_count": 11,
   "metadata": {
    "collapsed": false
   },
   "outputs": [
    {
     "name": "stdout",
     "output_type": "stream",
     "text": [
      "[1] \"Only those columns whose headers end with an 'r'\"\n"
     ]
    },
    {
     "data": {
      "text/html": [
       "<table>\n",
       "<thead><tr><th></th><th scope=col>Year</th><th scope=col>Gender</th></tr></thead>\n",
       "<tbody>\n",
       "\t<tr><th scope=row>1</th><td>1880</td><td>F   </td></tr>\n",
       "\t<tr><th scope=row>2</th><td>1880</td><td>F   </td></tr>\n",
       "\t<tr><th scope=row>3</th><td>1880</td><td>F   </td></tr>\n",
       "\t<tr><th scope=row>4</th><td>1880</td><td>F   </td></tr>\n",
       "\t<tr><th scope=row>5</th><td>1880</td><td>F   </td></tr>\n",
       "\t<tr><th scope=row>6</th><td>1880</td><td>F   </td></tr>\n",
       "</tbody>\n",
       "</table>\n"
      ],
      "text/latex": [
       "\\begin{tabular}{r|ll}\n",
       "  & Year & Gender\\\\\n",
       "\\hline\n",
       "\t1 & 1880 & F   \\\\\n",
       "\t2 & 1880 & F   \\\\\n",
       "\t3 & 1880 & F   \\\\\n",
       "\t4 & 1880 & F   \\\\\n",
       "\t5 & 1880 & F   \\\\\n",
       "\t6 & 1880 & F   \\\\\n",
       "\\end{tabular}\n"
      ],
      "text/plain": [
       "  Year Gender\n",
       "1 1880      F\n",
       "2 1880      F\n",
       "3 1880      F\n",
       "4 1880      F\n",
       "5 1880      F\n",
       "6 1880      F"
      ]
     },
     "metadata": {},
     "output_type": "display_data"
    }
   ],
   "source": [
    "library(dplyr)\n",
    "\n",
    "print(\"Only those columns whose headers end with an 'r'\")\n",
    "head(select(df, ends_with(\"r\")))"
   ]
  },
  {
   "cell_type": "markdown",
   "metadata": {},
   "source": [
    "As you can probably imagine, this isn't the only way to select based on a partial string, or all of the functionality of the `select` function for that matter. But for now, we are going to move on to other parts of `dplyr` that are handy."
   ]
  },
  {
   "cell_type": "markdown",
   "metadata": {},
   "source": [
    "#### `filter`\n",
    "\n",
    "`filter()` allows you to subset rows of data frame based on logical conditions. Here is an example..."
   ]
  },
  {
   "cell_type": "code",
   "execution_count": 12,
   "metadata": {
    "collapsed": false
   },
   "outputs": [
    {
     "data": {
      "text/html": [
       "<table>\n",
       "<thead><tr><th></th><th scope=col>Name</th><th scope=col>Year</th><th scope=col>Gender</th><th scope=col>Count</th></tr></thead>\n",
       "<tbody>\n",
       "\t<tr><th scope=row>1</th><td>Adelle</td><td>1880  </td><td>F     </td><td>5     </td></tr>\n",
       "\t<tr><th scope=row>2</th><td>Adina</td><td>1880 </td><td>F    </td><td>5    </td></tr>\n",
       "\t<tr><th scope=row>3</th><td>Ana </td><td>1880</td><td>F   </td><td>5   </td></tr>\n",
       "\t<tr><th scope=row>4</th><td>Clair</td><td>1880 </td><td>F    </td><td>5    </td></tr>\n",
       "\t<tr><th scope=row>5</th><td>Delila</td><td>1880  </td><td>F     </td><td>5     </td></tr>\n",
       "\t<tr><th scope=row>6</th><td>Dosha</td><td>1880 </td><td>F    </td><td>5    </td></tr>\n",
       "</tbody>\n",
       "</table>\n"
      ],
      "text/latex": [
       "\\begin{tabular}{r|llll}\n",
       "  & Name & Year & Gender & Count\\\\\n",
       "\\hline\n",
       "\t1 & Adelle & 1880   & F      & 5     \\\\\n",
       "\t2 & Adina & 1880  & F     & 5    \\\\\n",
       "\t3 & Ana  & 1880 & F    & 5   \\\\\n",
       "\t4 & Clair & 1880  & F     & 5    \\\\\n",
       "\t5 & Delila & 1880   & F      & 5     \\\\\n",
       "\t6 & Dosha & 1880  & F     & 5    \\\\\n",
       "\\end{tabular}\n"
      ],
      "text/plain": [
       "    Name Year Gender Count\n",
       "1 Adelle 1880      F     5\n",
       "2  Adina 1880      F     5\n",
       "3    Ana 1880      F     5\n",
       "4  Clair 1880      F     5\n",
       "5 Delila 1880      F     5\n",
       "6  Dosha 1880      F     5"
      ]
     },
     "metadata": {},
     "output_type": "display_data"
    }
   ],
   "source": [
    "library(dplyr)\n",
    "head(filter(df, Count < 6))"
   ]
  },
  {
   "cell_type": "markdown",
   "metadata": {
    "collapsed": true
   },
   "source": [
    "This should be familiar. This is the same thing as running `subset(df, Count < 6)` or `df[df$Count < 6,]`. In plain English, we are simply asking for all the rows that have a `Count` less than 6 to be returned."
   ]
  },
  {
   "cell_type": "markdown",
   "metadata": {},
   "source": [
    "#### `arrange`\n",
    "\n",
    "`arrange` is simply a way to sort your columns. The defualt is to sort in an ascending manner, but if you prefer a descending order, you can either specify the function `desc(`*`col_name`*`)` or the minus sign, `-`*`col_name`*."
   ]
  },
  {
   "cell_type": "code",
   "execution_count": 13,
   "metadata": {
    "collapsed": false
   },
   "outputs": [
    {
     "name": "stdout",
     "output_type": "stream",
     "text": [
      "[1] \"Ascending\"\n"
     ]
    },
    {
     "data": {
      "text/html": [
       "<table>\n",
       "<thead><tr><th></th><th scope=col>Name</th><th scope=col>Year</th><th scope=col>Gender</th><th scope=col>Count</th></tr></thead>\n",
       "<tbody>\n",
       "\t<tr><th scope=row>1</th><td>Adelle</td><td>1880  </td><td>F     </td><td>5     </td></tr>\n",
       "\t<tr><th scope=row>2</th><td>Adina</td><td>1880 </td><td>F    </td><td>5    </td></tr>\n",
       "\t<tr><th scope=row>3</th><td>Ana </td><td>1880</td><td>F   </td><td>5   </td></tr>\n",
       "\t<tr><th scope=row>4</th><td>Clair</td><td>1880 </td><td>F    </td><td>5    </td></tr>\n",
       "\t<tr><th scope=row>5</th><td>Delila</td><td>1880  </td><td>F     </td><td>5     </td></tr>\n",
       "\t<tr><th scope=row>6</th><td>Dosha</td><td>1880 </td><td>F    </td><td>5    </td></tr>\n",
       "</tbody>\n",
       "</table>\n"
      ],
      "text/latex": [
       "\\begin{tabular}{r|llll}\n",
       "  & Name & Year & Gender & Count\\\\\n",
       "\\hline\n",
       "\t1 & Adelle & 1880   & F      & 5     \\\\\n",
       "\t2 & Adina & 1880  & F     & 5    \\\\\n",
       "\t3 & Ana  & 1880 & F    & 5   \\\\\n",
       "\t4 & Clair & 1880  & F     & 5    \\\\\n",
       "\t5 & Delila & 1880   & F      & 5     \\\\\n",
       "\t6 & Dosha & 1880  & F     & 5    \\\\\n",
       "\\end{tabular}\n"
      ],
      "text/plain": [
       "    Name Year Gender Count\n",
       "1 Adelle 1880      F     5\n",
       "2  Adina 1880      F     5\n",
       "3    Ana 1880      F     5\n",
       "4  Clair 1880      F     5\n",
       "5 Delila 1880      F     5\n",
       "6  Dosha 1880      F     5"
      ]
     },
     "metadata": {},
     "output_type": "display_data"
    },
    {
     "name": "stdout",
     "output_type": "stream",
     "text": [
      "[1] \"Descending\"\n"
     ]
    },
    {
     "data": {
      "text/html": [
       "<table>\n",
       "<thead><tr><th></th><th scope=col>Name</th><th scope=col>Year</th><th scope=col>Gender</th><th scope=col>Count</th></tr></thead>\n",
       "<tbody>\n",
       "\t<tr><th scope=row>1</th><td>Linda</td><td>1947 </td><td>F    </td><td>99680</td></tr>\n",
       "\t<tr><th scope=row>2</th><td>Linda</td><td>1949 </td><td>F    </td><td>91010</td></tr>\n",
       "\t<tr><th scope=row>3</th><td>Michael</td><td>1961   </td><td>M      </td><td>86916  </td></tr>\n",
       "\t<tr><th scope=row>4</th><td>James</td><td>1949 </td><td>M    </td><td>86856</td></tr>\n",
       "\t<tr><th scope=row>5</th><td>Robert</td><td>1954  </td><td>M     </td><td>86258 </td></tr>\n",
       "\t<tr><th scope=row>6</th><td>James</td><td>1950 </td><td>M    </td><td>86221</td></tr>\n",
       "</tbody>\n",
       "</table>\n"
      ],
      "text/latex": [
       "\\begin{tabular}{r|llll}\n",
       "  & Name & Year & Gender & Count\\\\\n",
       "\\hline\n",
       "\t1 & Linda & 1947  & F     & 99680\\\\\n",
       "\t2 & Linda & 1949  & F     & 91010\\\\\n",
       "\t3 & Michael & 1961    & M       & 86916  \\\\\n",
       "\t4 & James & 1949  & M     & 86856\\\\\n",
       "\t5 & Robert & 1954   & M      & 86258 \\\\\n",
       "\t6 & James & 1950  & M     & 86221\\\\\n",
       "\\end{tabular}\n"
      ],
      "text/plain": [
       "     Name Year Gender Count\n",
       "1   Linda 1947      F 99680\n",
       "2   Linda 1949      F 91010\n",
       "3 Michael 1961      M 86916\n",
       "4   James 1949      M 86856\n",
       "5  Robert 1954      M 86258\n",
       "6   James 1950      M 86221"
      ]
     },
     "metadata": {},
     "output_type": "display_data"
    }
   ],
   "source": [
    "print(\"Ascending\")\n",
    "head(arrange(df, Count))\n",
    "\n",
    "print(\"Descending\")\n",
    "head(arrange(df, desc(Count)))"
   ]
  },
  {
   "cell_type": "markdown",
   "metadata": {},
   "source": [
    "**`mutate`**\n",
    "\n",
    "The `mutate` function is good for manipulating data of a data frame and then returning it as a new column. For example, if I wanted to subtract the mean `Count` from every value of `Count` to see if that row is above or below the mean, `mutate` would be the function to do so. Here is an example of that scenario."
   ]
  },
  {
   "cell_type": "code",
   "execution_count": 14,
   "metadata": {
    "collapsed": false
   },
   "outputs": [
    {
     "data": {
      "text/html": [
       "<table>\n",
       "<thead><tr><th></th><th scope=col>Name</th><th scope=col>Year</th><th scope=col>Gender</th><th scope=col>Count</th><th scope=col>CountDetrend</th></tr></thead>\n",
       "<tbody>\n",
       "\t<tr><th scope=row>1</th><td>Anna            </td><td>1880            </td><td>F               </td><td>2604            </td><td>2419.14567975503</td></tr>\n",
       "\t<tr><th scope=row>2</th><td>Emma            </td><td>1880            </td><td>F               </td><td>2003            </td><td>1818.14567975503</td></tr>\n",
       "\t<tr><th scope=row>3</th><td>Margaret        </td><td>1880            </td><td>F               </td><td>1578            </td><td>1393.14567975503</td></tr>\n",
       "\t<tr><th scope=row>4</th><td>Sarah           </td><td>1880            </td><td>F               </td><td>1288            </td><td>1103.14567975503</td></tr>\n",
       "\t<tr><th scope=row>5</th><td>Annie           </td><td>1880            </td><td>F               </td><td>1258            </td><td>1073.14567975503</td></tr>\n",
       "\t<tr><th scope=row>6</th><td>Florence        </td><td>1880            </td><td>F               </td><td>1063            </td><td>878.145679755031</td></tr>\n",
       "</tbody>\n",
       "</table>\n"
      ],
      "text/latex": [
       "\\begin{tabular}{r|lllll}\n",
       "  & Name & Year & Gender & Count & CountDetrend\\\\\n",
       "\\hline\n",
       "\t1 & Anna             & 1880             & F                & 2604             & 2419.14567975503\\\\\n",
       "\t2 & Emma             & 1880             & F                & 2003             & 1818.14567975503\\\\\n",
       "\t3 & Margaret         & 1880             & F                & 1578             & 1393.14567975503\\\\\n",
       "\t4 & Sarah            & 1880             & F                & 1288             & 1103.14567975503\\\\\n",
       "\t5 & Annie            & 1880             & F                & 1258             & 1073.14567975503\\\\\n",
       "\t6 & Florence         & 1880             & F                & 1063             & 878.145679755031\\\\\n",
       "\\end{tabular}\n"
      ],
      "text/plain": [
       "      Name Year Gender Count CountDetrend\n",
       "1     Anna 1880      F  2604    2419.1457\n",
       "2     Emma 1880      F  2003    1818.1457\n",
       "3 Margaret 1880      F  1578    1393.1457\n",
       "4    Sarah 1880      F  1288    1103.1457\n",
       "5    Annie 1880      F  1258    1073.1457\n",
       "6 Florence 1880      F  1063     878.1457"
      ]
     },
     "metadata": {},
     "output_type": "display_data"
    }
   ],
   "source": [
    "head(mutate(df, CountDetrend = Count - mean(Count)))"
   ]
  },
  {
   "cell_type": "markdown",
   "metadata": {},
   "source": [
    "#### The Pipe Character `%>%` and more Verbiage\n",
    "\n",
    "Up until this point, you may be asking the question as to what `dplyr` has to offer that `R`'s base functionality doesn't? The thing is, `dplyr` doesn't add any new functionality, per se, but it **does** simplifying the existing functionality. \n",
    "\n",
    "Much of the power of `dplyr` comes in the `%>%` character, which allows you to take a function and feed its output to another function. You can string several of the statements along to manipulate data step by step. For some, this concept is better seen than explained. Take the following, albeit trivial, example."
   ]
  },
  {
   "cell_type": "code",
   "execution_count": 15,
   "metadata": {
    "collapsed": false
   },
   "outputs": [
    {
     "data": {
      "text/html": [
       "<table>\n",
       "<thead><tr><th></th><th scope=col>Name</th><th scope=col>Year</th><th scope=col>Gender</th><th scope=col>Count</th></tr></thead>\n",
       "<tbody>\n",
       "\t<tr><th scope=row>1</th><td>Linda</td><td>1881 </td><td>F    </td><td>38   </td></tr>\n",
       "\t<tr><th scope=row>2</th><td>Linda</td><td>1882 </td><td>F    </td><td>36   </td></tr>\n",
       "\t<tr><th scope=row>3</th><td>Linda</td><td>1887 </td><td>F    </td><td>50   </td></tr>\n",
       "\t<tr><th scope=row>4</th><td>Linda</td><td>1888 </td><td>F    </td><td>77   </td></tr>\n",
       "\t<tr><th scope=row>5</th><td>Linda</td><td>1901 </td><td>F    </td><td>86   </td></tr>\n",
       "\t<tr><th scope=row>6</th><td>Linda</td><td>1903 </td><td>F    </td><td>90   </td></tr>\n",
       "\t<tr><th scope=row>7</th><td>Linda</td><td>1904 </td><td>F    </td><td>101  </td></tr>\n",
       "\t<tr><th scope=row>8</th><td>Linda</td><td>1905 </td><td>F    </td><td>106  </td></tr>\n",
       "\t<tr><th scope=row>9</th><td>Linda</td><td>1906 </td><td>F    </td><td>98   </td></tr>\n",
       "\t<tr><th scope=row>10</th><td>Linda</td><td>1907 </td><td>F    </td><td>102  </td></tr>\n",
       "</tbody>\n",
       "</table>\n"
      ],
      "text/latex": [
       "\\begin{tabular}{r|llll}\n",
       "  & Name & Year & Gender & Count\\\\\n",
       "\\hline\n",
       "\t1 & Linda & 1881  & F     & 38   \\\\\n",
       "\t2 & Linda & 1882  & F     & 36   \\\\\n",
       "\t3 & Linda & 1887  & F     & 50   \\\\\n",
       "\t4 & Linda & 1888  & F     & 77   \\\\\n",
       "\t5 & Linda & 1901  & F     & 86   \\\\\n",
       "\t6 & Linda & 1903  & F     & 90   \\\\\n",
       "\t7 & Linda & 1904  & F     & 101  \\\\\n",
       "\t8 & Linda & 1905  & F     & 106  \\\\\n",
       "\t9 & Linda & 1906  & F     & 98   \\\\\n",
       "\t10 & Linda & 1907  & F     & 102  \\\\\n",
       "\\end{tabular}\n"
      ],
      "text/plain": [
       "    Name Year Gender Count\n",
       "1  Linda 1881      F    38\n",
       "2  Linda 1882      F    36\n",
       "3  Linda 1887      F    50\n",
       "4  Linda 1888      F    77\n",
       "5  Linda 1901      F    86\n",
       "6  Linda 1903      F    90\n",
       "7  Linda 1904      F   101\n",
       "8  Linda 1905      F   106\n",
       "9  Linda 1906      F    98\n",
       "10 Linda 1907      F   102"
      ]
     },
     "metadata": {},
     "output_type": "display_data"
    }
   ],
   "source": [
    "df %>% \n",
    "    filter(Name == 'Linda') %>% \n",
    "    head(10)"
   ]
  },
  {
   "cell_type": "markdown",
   "metadata": {},
   "source": [
    "Okay, so in this example we are doing nothing more than selecting rows based on a specific value, nothing that we haven't done before. But let's tease this apart line by line. **`df %>%`** is just specifying that we are working with our data frame `df` while the pipe operator **`%>%`** strings this into the next fuction, which is **`filter(Name == 'Linda') %>%`**. So, since we are operating on the output of the first line, we are telling `R` to *`filter`* on *`df`*, and select those rows that have the value *`Linda`* in the *`Name`* column. But notice again the `%>%` operator at the end of this line. Again, we are taking the output from this line, or a data frame with only rows whose `Name` column is `Linda`, and feeding it into the next function, **`head(10)`**. This is the end of our pipeline, and will return the first 10 rows of this data frame of `Linda`s.\n",
    "\n",
    "Like, I said, this is a rather trivial example, and one in which we could certainly have found a simpler solution to, but there are more complexities to data manipulation that make this `%>%` operator a very useful tool in data science. In the following, we will explore the final verbs of the `dplyr` package."
   ]
  },
  {
   "cell_type": "markdown",
   "metadata": {},
   "source": [
    "#### `group_by`\n",
    "\n",
    "`group_by` is great for beginning to explore data. Imagine we were interest in the most popular name for each year, and for each gender. To do this, we would have to group the dataframe based on factor levels (discussed more in Module 1) for both the columns, `Year` and `Gender` and then find filter on every max `Count`. What should return is a data frame that has the most popular name for each gender per year."
   ]
  },
  {
   "cell_type": "code",
   "execution_count": 16,
   "metadata": {
    "collapsed": false
   },
   "outputs": [
    {
     "data": {
      "text/html": [
       "<table>\n",
       "<thead><tr><th></th><th scope=col>Name</th><th scope=col>Year</th><th scope=col>Gender</th><th scope=col>Count</th></tr></thead>\n",
       "<tbody>\n",
       "\t<tr><th scope=row>1</th><td>Anna</td><td>1880</td><td>F   </td><td>2604</td></tr>\n",
       "\t<tr><th scope=row>2</th><td>George</td><td>1880  </td><td>M     </td><td>5126  </td></tr>\n",
       "\t<tr><th scope=row>3</th><td>Margaret</td><td>1881    </td><td>F       </td><td>1658    </td></tr>\n",
       "\t<tr><th scope=row>4</th><td>John</td><td>1881</td><td>M   </td><td>8769</td></tr>\n",
       "\t<tr><th scope=row>5</th><td>Ida </td><td>1882</td><td>F   </td><td>1673</td></tr>\n",
       "\t<tr><th scope=row>6</th><td>John</td><td>1882</td><td>M   </td><td>9557</td></tr>\n",
       "</tbody>\n",
       "</table>\n"
      ],
      "text/latex": [
       "\\begin{tabular}{r|llll}\n",
       "  & Name & Year & Gender & Count\\\\\n",
       "\\hline\n",
       "\t1 & Anna & 1880 & F    & 2604\\\\\n",
       "\t2 & George & 1880   & M      & 5126  \\\\\n",
       "\t3 & Margaret & 1881     & F        & 1658    \\\\\n",
       "\t4 & John & 1881 & M    & 8769\\\\\n",
       "\t5 & Ida  & 1882 & F    & 1673\\\\\n",
       "\t6 & John & 1882 & M    & 9557\\\\\n",
       "\\end{tabular}\n"
      ],
      "text/plain": [
       "      Name Year Gender Count\n",
       "1     Anna 1880      F  2604\n",
       "2   George 1880      M  5126\n",
       "3 Margaret 1881      F  1658\n",
       "4     John 1881      M  8769\n",
       "5      Ida 1882      F  1673\n",
       "6     John 1882      M  9557"
      ]
     },
     "metadata": {},
     "output_type": "display_data"
    }
   ],
   "source": [
    "df %>%\n",
    "    group_by(Year,Gender) %>%\n",
    "    filter(Count == max(Count)) %>%\n",
    "    head()"
   ]
  },
  {
   "cell_type": "markdown",
   "metadata": {},
   "source": [
    " "
   ]
  },
  {
   "cell_type": "markdown",
   "metadata": {
    "collapsed": true
   },
   "source": [
    "***Something to Think About:*** How would you find the most popular (by absolute count) male and female name of the entire dataset? How about just the most popular name of either gender per year?"
   ]
  },
  {
   "cell_type": "markdown",
   "metadata": {},
   "source": [
    "#### `summarize`\n",
    "\n",
    "This is the final verb in `dplyr`'s grammar that we will be discussing for this lesson. `summarize` (also `summarise`) is a function for providing some summary stats about the dataset. We won't dig into what summary statistics are too much in this lesson, as it will be one of the central concepts in module 2. \n",
    "\n",
    "Imagine we were interested in the mean name Count per year in this data frame; `summarize` is the function we would use for such a task...in conjuction with the `group_by` function, of course."
   ]
  },
  {
   "cell_type": "code",
   "execution_count": 17,
   "metadata": {
    "collapsed": false
   },
   "outputs": [
    {
     "data": {
      "text/html": [
       "<table>\n",
       "<thead><tr><th></th><th scope=col>Year</th><th scope=col>Mean_Count</th></tr></thead>\n",
       "<tbody>\n",
       "\t<tr><th scope=row>1</th><td>2009            </td><td>111.012083297626</td></tr>\n",
       "\t<tr><th scope=row>2</th><td>2010            </td><td>116.276321595623</td></tr>\n",
       "\t<tr><th scope=row>3</th><td>2011            </td><td>106.999735566329</td></tr>\n",
       "\t<tr><th scope=row>4</th><td>2012            </td><td>110.567276261154</td></tr>\n",
       "\t<tr><th scope=row>5</th><td>2013            </td><td>106.274884938182</td></tr>\n",
       "\t<tr><th scope=row>6</th><td>2014            </td><td>108.100405588103</td></tr>\n",
       "</tbody>\n",
       "</table>\n"
      ],
      "text/latex": [
       "\\begin{tabular}{r|ll}\n",
       "  & Year & Mean\\_Count\\\\\n",
       "\\hline\n",
       "\t1 & 2009             & 111.012083297626\\\\\n",
       "\t2 & 2010             & 116.276321595623\\\\\n",
       "\t3 & 2011             & 106.999735566329\\\\\n",
       "\t4 & 2012             & 110.567276261154\\\\\n",
       "\t5 & 2013             & 106.274884938182\\\\\n",
       "\t6 & 2014             & 108.100405588103\\\\\n",
       "\\end{tabular}\n"
      ],
      "text/plain": [
       "Source: local data frame [6 x 2]\n",
       "\n",
       "    Year Mean_Count\n",
       "  (fctr)      (dbl)\n",
       "1   2009   111.0121\n",
       "2   2010   116.2763\n",
       "3   2011   106.9997\n",
       "4   2012   110.5673\n",
       "5   2013   106.2749\n",
       "6   2014   108.1004"
      ]
     },
     "metadata": {},
     "output_type": "display_data"
    }
   ],
   "source": [
    "df %>%\n",
    "    group_by(Year) %>%\n",
    "    summarize(Mean_Count = mean(Count)) %>%\n",
    "    mutate(Year = as.factor(Year)) %>%\n",
    "    tail()"
   ]
  },
  {
   "cell_type": "markdown",
   "metadata": {},
   "source": [
    "## And To Come...\n",
    "\n",
    "In the lessons to come, we dive into some exploratory analysis. In order to do this, we are going to need to know how to find the summary statistics of variables such as the image below. We are also going to need to know how to interpret these summary statistics as well as look at the relationship between variables. This will help us down the line when we begin to run some machine learning models to predict the output more interesting problems... but that will be down the road in Module 6."
   ]
  },
  {
   "cell_type": "markdown",
   "metadata": {},
   "source": [
    "### Summary Statistics for the Count Variable\n",
    "\n",
    "<img src=\"../images/summary_sample_r.png\\\">"
   ]
  },
  {
   "cell_type": "markdown",
   "metadata": {},
   "source": [
    "We will also begin to explore further methods of data manipulation, such as normalization, which will allow us to make more meaningful interpretations and predictions. Below is a graph that normalized the Count variable so that we can see the relative popularity of a name for that year. In module 5, we will learn how to make graphs that will communicate your patterns in your data effectively."
   ]
  },
  {
   "cell_type": "markdown",
   "metadata": {},
   "source": [
    "<img src=\"../images/popularity_sandy.jpg\\\">"
   ]
  },
  {
   "cell_type": "code",
   "execution_count": null,
   "metadata": {
    "collapsed": true
   },
   "outputs": [],
   "source": []
  }
 ],
 "metadata": {
  "kernelspec": {
   "display_name": "R",
   "language": "R",
   "name": "ir"
  },
  "language_info": {
   "codemirror_mode": "r",
   "file_extension": ".r",
   "mimetype": "text/x-r-source",
   "name": "R",
   "pygments_lexer": "r",
   "version": "3.3.1"
  }
 },
 "nbformat": 4,
 "nbformat_minor": 0
}
