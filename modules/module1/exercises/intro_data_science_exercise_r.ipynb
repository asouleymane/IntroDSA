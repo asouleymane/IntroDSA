{
 "cells": [
  {
   "cell_type": "markdown",
   "metadata": {},
   "source": [
    "1. Read in the file `congress-terms.csv` under the `datasets/` directory. Name this data frame `df`.\n",
    "2. Now split the data frame `df` into 2 data frames based on the Republican and Democratic party. Save them in a variables named `repulican` and `democrat` respectively. Which data set has more rows?\n",
    "3. Are there any other codes for political parties other than Democrat and Republican? If so, what are these other codes? What function did you use to find this?\n",
    "4. Sort the dataframe for the `replicans` and `democrats` dataframes by age and return the 5 oldest and youngest from each party. \n",
    "5. Now, let's start using the package `dplyr` to perform some basic data manipulations. If you noticed, the `df$chamber` column contains whether or not the individual belonged to the `house` or the `senate`. Using dplyr create a frame of data that returns the youngest member from each chamber per party (including those other than Republican or Democrat).\n",
    "6. Now, using dplyr, create the same frame as above except for the oldest member per chamber, per party."
   ]
  }
 ],
 "metadata": {
  "kernelspec": {
   "display_name": "R",
   "language": "R",
   "name": "ir"
  },
  "language_info": {
   "codemirror_mode": "r",
   "file_extension": ".r",
   "mimetype": "text/x-r-source",
   "name": "R",
   "pygments_lexer": "r",
   "version": "3.2.2"
  }
 },
 "nbformat": 4,
 "nbformat_minor": 0
}
