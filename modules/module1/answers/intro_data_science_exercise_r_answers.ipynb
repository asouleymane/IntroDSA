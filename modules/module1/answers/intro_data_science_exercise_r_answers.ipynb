{
 "cells": [
  {
   "cell_type": "code",
   "execution_count": 1,
   "metadata": {
    "collapsed": true
   },
   "outputs": [],
   "source": [
    "df <- read.csv('../../../datasets/congress-terms.csv') "
   ]
  },
  {
   "cell_type": "code",
   "execution_count": 4,
   "metadata": {
    "collapsed": false
   },
   "outputs": [
    {
     "data": {
      "text/html": [
       "<table>\n",
       "<thead><tr><th></th><th scope=col>congress</th><th scope=col>chamber</th><th scope=col>bioguide</th><th scope=col>firstname</th><th scope=col>middlename</th><th scope=col>lastname</th><th scope=col>suffix</th><th scope=col>birthday</th><th scope=col>state</th><th scope=col>party</th><th scope=col>incumbent</th><th scope=col>termstart</th><th scope=col>age</th></tr></thead>\n",
       "<tbody>\n",
       "\t<tr><th scope=row>1</th><td>80</td><td>house</td><td>I000046</td><td>Leo</td><td></td><td>Isacson</td><td></td><td>4/20/10</td><td>NY</td><td>AL</td><td>No</td><td>1/3/47</td><td>36.7</td></tr>\n",
       "\t<tr><th scope=row>2</th><td>89</td><td>house</td><td>J000151</td><td>Jed</td><td>Joseph</td><td>Johnson</td><td>Jr.</td><td>12/27/39</td><td>OK</td><td>D</td><td>No</td><td>1/4/65</td><td>25</td></tr>\n",
       "\t<tr><th scope=row>3</th><td>102</td><td>house</td><td>S000033</td><td>Bernard</td><td></td><td>Sanders</td><td></td><td>9/8/41</td><td>VT</td><td>I</td><td>No</td><td>1/3/91</td><td>49.3</td></tr>\n",
       "\t<tr><th scope=row>4</th><td>86</td><td>house</td><td>A000105</td><td>Thomas</td><td>Dale</td><td>Alford</td><td></td><td>1/28/16</td><td>AR</td><td>ID</td><td>No</td><td>1/7/59</td><td>42.9</td></tr>\n",
       "\t<tr><th scope=row>5</th><td>81</td><td>house</td><td>R000425</td><td>Franklin</td><td>Delano</td><td>Roosevelt</td><td>Jr.</td><td>8/17/14</td><td>NY</td><td>L</td><td>No</td><td>1/3/49</td><td>34.4</td></tr>\n",
       "\t<tr><th scope=row>6</th><td>94</td><td>house</td><td>E000175</td><td>David</td><td>Farnham</td><td>Emery</td><td></td><td>9/1/48</td><td>ME</td><td>R</td><td>No</td><td>1/14/75</td><td>26.4</td></tr>\n",
       "\t<tr><th scope=row>7</th><td>80</td><td>senate</td><td>L000428</td><td>Russell</td><td>Billiu</td><td>Long</td><td></td><td>11/3/18</td><td>LA</td><td>D</td><td>Yes</td><td>1/3/47</td><td>28.2</td></tr>\n",
       "\t<tr><th scope=row>8</th><td>88</td><td>senate</td><td>M000851</td><td>Walter</td><td>Frederick</td><td>Mondale</td><td></td><td>1/5/28</td><td>MN</td><td>I</td><td>No</td><td>1/9/63</td><td>35</td></tr>\n",
       "\t<tr><th scope=row>9</th><td>110</td><td>senate</td><td>L000304</td><td>Joseph</td><td>I.</td><td>Lieberman</td><td></td><td>2/24/42</td><td>CT</td><td>ID</td><td>Yes</td><td>1/4/07</td><td>64.9</td></tr>\n",
       "\t<tr><th scope=row>10</th><td>97</td><td>senate</td><td>N000102</td><td>Don</td><td></td><td>Nickles</td><td></td><td>12/6/48</td><td>OK</td><td>R</td><td>No</td><td>1/5/81</td><td>32.1</td></tr>\n",
       "</tbody>\n",
       "</table>\n"
      ],
      "text/latex": [
       "\\begin{tabular}{r|lllllllllllll}\n",
       "  & congress & chamber & bioguide & firstname & middlename & lastname & suffix & birthday & state & party & incumbent & termstart & age\\\\\n",
       "\\hline\n",
       "\t1 & 80 & house & I000046 & Leo &  & Isacson &  & 4/20/10 & NY & AL & No & 1/3/47 & 36.7\\\\\n",
       "\t2 & 89 & house & J000151 & Jed & Joseph & Johnson & Jr. & 12/27/39 & OK & D & No & 1/4/65 & 25\\\\\n",
       "\t3 & 102 & house & S000033 & Bernard &  & Sanders &  & 9/8/41 & VT & I & No & 1/3/91 & 49.3\\\\\n",
       "\t4 & 86 & house & A000105 & Thomas & Dale & Alford &  & 1/28/16 & AR & ID & No & 1/7/59 & 42.9\\\\\n",
       "\t5 & 81 & house & R000425 & Franklin & Delano & Roosevelt & Jr. & 8/17/14 & NY & L & No & 1/3/49 & 34.4\\\\\n",
       "\t6 & 94 & house & E000175 & David & Farnham & Emery &  & 9/1/48 & ME & R & No & 1/14/75 & 26.4\\\\\n",
       "\t7 & 80 & senate & L000428 & Russell & Billiu & Long &  & 11/3/18 & LA & D & Yes & 1/3/47 & 28.2\\\\\n",
       "\t8 & 88 & senate & M000851 & Walter & Frederick & Mondale &  & 1/5/28 & MN & I & No & 1/9/63 & 35\\\\\n",
       "\t9 & 110 & senate & L000304 & Joseph & I. & Lieberman &  & 2/24/42 & CT & ID & Yes & 1/4/07 & 64.9\\\\\n",
       "\t10 & 97 & senate & N000102 & Don &  & Nickles &  & 12/6/48 & OK & R & No & 1/5/81 & 32.1\\\\\n",
       "\\end{tabular}\n"
      ],
      "text/plain": [
       "Source: local data frame [10 x 13]\n",
       "Groups: chamber, party [10]\n",
       "\n",
       "   congress chamber bioguide firstname middlename  lastname suffix birthday\n",
       "      (int)  (fctr)   (fctr)    (fctr)     (fctr)    (fctr) (fctr)   (fctr)\n",
       "1        80   house  I000046       Leo              Isacson         4/20/10\n",
       "2        89   house  J000151       Jed     Joseph   Johnson    Jr. 12/27/39\n",
       "3       102   house  S000033   Bernard              Sanders          9/8/41\n",
       "4        86   house  A000105    Thomas       Dale    Alford         1/28/16\n",
       "5        81   house  R000425  Franklin     Delano Roosevelt    Jr.  8/17/14\n",
       "6        94   house  E000175     David    Farnham     Emery          9/1/48\n",
       "7        80  senate  L000428   Russell     Billiu      Long         11/3/18\n",
       "8        88  senate  M000851    Walter  Frederick   Mondale          1/5/28\n",
       "9       110  senate  L000304    Joseph         I. Lieberman         2/24/42\n",
       "10       97  senate  N000102       Don              Nickles         12/6/48\n",
       "Variables not shown: state (fctr), party (fctr), incumbent (fctr), termstart\n",
       "  (fctr), age (dbl)"
      ]
     },
     "execution_count": 4,
     "metadata": {},
     "output_type": "execute_result"
    },
    {
     "data": {
      "text/html": [
       "<table>\n",
       "<thead><tr><th></th><th scope=col>congress</th><th scope=col>chamber</th><th scope=col>bioguide</th><th scope=col>firstname</th><th scope=col>middlename</th><th scope=col>lastname</th><th scope=col>suffix</th><th scope=col>birthday</th><th scope=col>state</th><th scope=col>party</th><th scope=col>incumbent</th><th scope=col>termstart</th><th scope=col>age</th></tr></thead>\n",
       "<tbody>\n",
       "\t<tr><th scope=row>1</th><td>81</td><td>house</td><td>M000122</td><td>Vito</td><td>Anthony</td><td>Marcantonio</td><td></td><td>1902-12-10</td><td>NY</td><td>AL</td><td>Yes</td><td>1/3/49</td><td>46.1</td></tr>\n",
       "\t<tr><th scope=row>2</th><td>101</td><td>house</td><td>P000218</td><td>Claude</td><td>Denson</td><td>Pepper</td><td></td><td>1900-09-08</td><td>FL</td><td>D</td><td>Yes</td><td>1/3/89</td><td>88.3</td></tr>\n",
       "\t<tr><th scope=row>3</th><td>109</td><td>house</td><td>S000033</td><td>Bernard</td><td></td><td>Sanders</td><td></td><td>9/8/41</td><td>VT</td><td>I</td><td>Yes</td><td>1/4/05</td><td>63.3</td></tr>\n",
       "\t<tr><th scope=row>4</th><td>93</td><td>house</td><td>M000834</td><td>John</td><td>Joseph</td><td>Moakley</td><td></td><td>4/27/27</td><td>MA</td><td>ID</td><td>No</td><td>1/3/73</td><td>45.7</td></tr>\n",
       "\t<tr><th scope=row>5</th><td>81</td><td>house</td><td>R000425</td><td>Franklin</td><td>Delano</td><td>Roosevelt</td><td>Jr.</td><td>8/17/14</td><td>NY</td><td>L</td><td>No</td><td>1/3/49</td><td>34.4</td></tr>\n",
       "\t<tr><th scope=row>6</th><td>113</td><td>house</td><td>H000067</td><td>Ralph</td><td>M.</td><td>Hall</td><td></td><td>5/3/23</td><td>TX</td><td>R</td><td>Yes</td><td>1/3/13</td><td>89.7</td></tr>\n",
       "\t<tr><th scope=row>7</th><td>111</td><td>senate</td><td>B001210</td><td>Robert</td><td>C.</td><td>Byrd</td><td></td><td>11/19/13</td><td>WV</td><td>D</td><td>Yes</td><td>1/6/09</td><td>95.1</td></tr>\n",
       "\t<tr><th scope=row>8</th><td>113</td><td>senate</td><td>S000033</td><td>Bernard</td><td></td><td>Sanders</td><td></td><td>9/8/41</td><td>VT</td><td>I</td><td>Yes</td><td>1/3/13</td><td>71.3</td></tr>\n",
       "\t<tr><th scope=row>9</th><td>111</td><td>senate</td><td>L000304</td><td>Joseph</td><td>I.</td><td>Lieberman</td><td></td><td>2/24/42</td><td>CT</td><td>ID</td><td>Yes</td><td>1/6/09</td><td>66.9</td></tr>\n",
       "\t<tr><th scope=row>10</th><td>107</td><td>senate</td><td>T000254</td><td>J.</td><td>Strom</td><td>Thurmond</td><td></td><td>1902-12-05</td><td>SC</td><td>R</td><td>Yes</td><td>1/3/01</td><td>98.1</td></tr>\n",
       "</tbody>\n",
       "</table>\n"
      ],
      "text/latex": [
       "\\begin{tabular}{r|lllllllllllll}\n",
       "  & congress & chamber & bioguide & firstname & middlename & lastname & suffix & birthday & state & party & incumbent & termstart & age\\\\\n",
       "\\hline\n",
       "\t1 & 81 & house & M000122 & Vito & Anthony & Marcantonio &  & 1902-12-10 & NY & AL & Yes & 1/3/49 & 46.1\\\\\n",
       "\t2 & 101 & house & P000218 & Claude & Denson & Pepper &  & 1900-09-08 & FL & D & Yes & 1/3/89 & 88.3\\\\\n",
       "\t3 & 109 & house & S000033 & Bernard &  & Sanders &  & 9/8/41 & VT & I & Yes & 1/4/05 & 63.3\\\\\n",
       "\t4 & 93 & house & M000834 & John & Joseph & Moakley &  & 4/27/27 & MA & ID & No & 1/3/73 & 45.7\\\\\n",
       "\t5 & 81 & house & R000425 & Franklin & Delano & Roosevelt & Jr. & 8/17/14 & NY & L & No & 1/3/49 & 34.4\\\\\n",
       "\t6 & 113 & house & H000067 & Ralph & M. & Hall &  & 5/3/23 & TX & R & Yes & 1/3/13 & 89.7\\\\\n",
       "\t7 & 111 & senate & B001210 & Robert & C. & Byrd &  & 11/19/13 & WV & D & Yes & 1/6/09 & 95.1\\\\\n",
       "\t8 & 113 & senate & S000033 & Bernard &  & Sanders &  & 9/8/41 & VT & I & Yes & 1/3/13 & 71.3\\\\\n",
       "\t9 & 111 & senate & L000304 & Joseph & I. & Lieberman &  & 2/24/42 & CT & ID & Yes & 1/6/09 & 66.9\\\\\n",
       "\t10 & 107 & senate & T000254 & J. & Strom & Thurmond &  & 1902-12-05 & SC & R & Yes & 1/3/01 & 98.1\\\\\n",
       "\\end{tabular}\n"
      ],
      "text/plain": [
       "Source: local data frame [10 x 13]\n",
       "Groups: chamber, party [10]\n",
       "\n",
       "   congress chamber bioguide firstname middlename    lastname suffix   birthday\n",
       "      (int)  (fctr)   (fctr)    (fctr)     (fctr)      (fctr) (fctr)     (fctr)\n",
       "1        81   house  M000122      Vito    Anthony Marcantonio        1902-12-10\n",
       "2       101   house  P000218    Claude     Denson      Pepper        1900-09-08\n",
       "3       109   house  S000033   Bernard                Sanders            9/8/41\n",
       "4        93   house  M000834      John     Joseph     Moakley           4/27/27\n",
       "5        81   house  R000425  Franklin     Delano   Roosevelt    Jr.    8/17/14\n",
       "6       113   house  H000067     Ralph         M.        Hall            5/3/23\n",
       "7       111  senate  B001210    Robert         C.        Byrd          11/19/13\n",
       "8       113  senate  S000033   Bernard                Sanders            9/8/41\n",
       "9       111  senate  L000304    Joseph         I.   Lieberman           2/24/42\n",
       "10      107  senate  T000254        J.      Strom    Thurmond        1902-12-05\n",
       "Variables not shown: state (fctr), party (fctr), incumbent (fctr), termstart\n",
       "  (fctr), age (dbl)"
      ]
     },
     "execution_count": 4,
     "metadata": {},
     "output_type": "execute_result"
    }
   ],
   "source": [
    "library(dplyr)\n",
    "# answer to 5\n",
    "df %>% group_by(chamber,party) %>% slice(which.min(age))\n",
    "# answer to 6\n",
    "df %>% group_by(chamber,party) %>% slice(which.max(age))"
   ]
  },
  {
   "cell_type": "code",
   "execution_count": null,
   "metadata": {
    "collapsed": true
   },
   "outputs": [],
   "source": []
  }
 ],
 "metadata": {
  "kernelspec": {
   "display_name": "R",
   "language": "R",
   "name": "ir"
  },
  "language_info": {
   "codemirror_mode": "r",
   "file_extension": ".r",
   "mimetype": "text/x-r-source",
   "name": "R",
   "pygments_lexer": "r",
   "version": "3.2.2"
  }
 },
 "nbformat": 4,
 "nbformat_minor": 0
}
