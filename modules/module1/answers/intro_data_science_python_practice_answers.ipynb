{
 "cells": [
  {
   "cell_type": "markdown",
   "metadata": {},
   "source": [
    "## Read in Data "
   ]
  },
  {
   "cell_type": "code",
   "execution_count": 1,
   "metadata": {
    "collapsed": false
   },
   "outputs": [
    {
     "name": "stdout",
     "output_type": "stream",
     "text": [
      "'Id,Name,Year,Gender,Count\\n4,Elizabeth,1880,F,1939\\n8,Alice,1880,F,1414\\n12,Clara,1880,F,1226\\n13,Ella,18'\n"
     ]
    }
   ],
   "source": [
    "with open('../../../datasets/baby-names/NationalNames2.csv', 'r') as file:\n",
    "    data = file.read()\n",
    "    print(repr(data[0:101]))"
   ]
  },
  {
   "cell_type": "markdown",
   "metadata": {
    "collapsed": false
   },
   "source": [
    "We are wanting to read in the data without using any libraries, but the output looks a little fishy. Currently, I am only able to use the indexes to locate specific characters in all of the data; this includes some unwanted characters such as commas and new line characters. In other words, all of the data are stored in a single string.  \n",
    "\n",
    "**Activity 1**: *Read in the file so that it is a list of lists. In other words, I should be able to access each row individually as well as individual values within the row.* "
   ]
  },
  {
   "cell_type": "code",
   "execution_count": 6,
   "metadata": {
    "collapsed": true
   },
   "outputs": [],
   "source": [
    "#' Code for activity 1 goes here ------------------\n",
    "\n"
   ]
  },
  {
   "cell_type": "markdown",
   "metadata": {},
   "source": [
    "We are going to go ahead and read in the data using the `csv` library. Rememeber, there is a lot of data to work with here so we are going to go ahead and subset it."
   ]
  },
  {
   "cell_type": "code",
   "execution_count": 3,
   "metadata": {
    "collapsed": false
   },
   "outputs": [],
   "source": [
    "import csv\n",
    "\n",
    "# create a list of lists with csv library and store the data in a `data_list` variable\n",
    "data_list = list(csv.reader(open('../../../datasets/baby-names/NationalNames2.csv'),  delimiter=','))\n",
    "\n",
    "# create a subset of the entire data set to speed things up\n",
    "subset = data_list[1:301]"
   ]
  },
  {
   "cell_type": "markdown",
   "metadata": {
    "collapsed": false
   },
   "source": [
    "Some of us like unusual names. I prefer to have my child avoid anyone who shares the uniqueness I bestow upon him or her, but I don't have any time to think of my own original name. Instead, I come across this `subset` of data with baby name counts in the United States. I decide that I want to pull the leaset common names from this subset. Fewer than 30 sounds good to me, but there is just one problem, I am getting the following error.\n",
    "\n",
    "**Activity 2**: *Correct (de-bug) the following error and answer the following questions.*"
   ]
  },
  {
   "cell_type": "code",
   "execution_count": 4,
   "metadata": {
    "collapsed": false
   },
   "outputs": [
    {
     "ename": "TypeError",
     "evalue": "unorderable types: str() < int()",
     "output_type": "error",
     "traceback": [
      "\u001b[0;31m---------------------------------------------------------------------------\u001b[0m",
      "\u001b[0;31mTypeError\u001b[0m                                 Traceback (most recent call last)",
      "\u001b[0;32m<ipython-input-4-c34740cd0c05>\u001b[0m in \u001b[0;36m<module>\u001b[0;34m()\u001b[0m\n\u001b[1;32m      1\u001b[0m \u001b[0;32mfor\u001b[0m \u001b[0mrow\u001b[0m \u001b[0;32min\u001b[0m \u001b[0msubset\u001b[0m\u001b[0;34m:\u001b[0m\u001b[0;34m\u001b[0m\u001b[0m\n\u001b[0;32m----> 2\u001b[0;31m     \u001b[0;32mif\u001b[0m \u001b[0mrow\u001b[0m\u001b[0;34m[\u001b[0m\u001b[0;36m4\u001b[0m\u001b[0;34m]\u001b[0m \u001b[0;34m<\u001b[0m \u001b[0;36m30\u001b[0m\u001b[0;34m:\u001b[0m\u001b[0;34m\u001b[0m\u001b[0m\n\u001b[0m\u001b[1;32m      3\u001b[0m         \u001b[0mprint\u001b[0m\u001b[0;34m(\u001b[0m\u001b[0mrow\u001b[0m\u001b[0;34m[\u001b[0m\u001b[0;36m1\u001b[0m\u001b[0;34m]\u001b[0m\u001b[0;34m)\u001b[0m\u001b[0;34m\u001b[0m\u001b[0m\n",
      "\u001b[0;31mTypeError\u001b[0m: unorderable types: str() < int()"
     ]
    }
   ],
   "source": [
    "for row in subset:\n",
    "    if row[4] < 30:\n",
    "        print(row[1])"
   ]
  },
  {
   "cell_type": "markdown",
   "metadata": {
    "collapsed": true
   },
   "source": [
    "**Questions**:\n",
    "1. What does the following error mean? \n",
    "2. How would you correct it so that the names that have less than 30 people who are named that are `print`ed out? "
   ]
  },
  {
   "cell_type": "code",
   "execution_count": 5,
   "metadata": {
    "collapsed": false
   },
   "outputs": [
    {
     "name": "stdout",
     "output_type": "stream",
     "text": [
      "Lucretia\n",
      "Orpha\n",
      "Alvina\n",
      "Catharine\n",
      "Elma\n",
      "Geneva\n",
      "Lona\n",
      "Linda\n",
      "Zula\n",
      "Frieda\n",
      "Joanna\n",
      "Tennie\n",
      "Ettie\n",
      "Letha\n",
      "Minta\n",
      "Adah\n",
      "Margret\n",
      "Floy\n",
      "Idella\n",
      "Juanita\n",
      "Isabell\n",
      "Pattie\n",
      "Vivian\n",
      "Almeda\n",
      "Jannie\n",
      "Kathrine\n",
      "Lavinia\n",
      "Susanna\n",
      "Elsa\n",
      "Gladys\n",
      "Vesta\n",
      "Antoinette\n",
      "Libbie\n",
      "Lilian\n",
      "Lutie\n",
      "Meda\n",
      "Zelma\n",
      "Adelia\n",
      "Annetta\n",
      "Antonia\n",
      "Dona\n",
      "Iona\n",
      "Alva\n",
      "Cecile\n",
      "Ellie\n",
      "Evie\n",
      "Frankie\n",
      "Helene\n",
      "Minna\n",
      "Savannah\n",
      "Tina\n",
      "Anita\n",
      "Dorothea\n",
      "Nan\n",
      "Pearlie\n",
      "Constance\n",
      "Ila\n",
      "Jimmie\n",
      "Lucia\n",
      "Ludie\n",
      "Betsy\n",
      "Hortense\n",
      "June\n",
      "Mona\n",
      "Cathrine\n",
      "Clyde\n",
      "Eleanore\n",
      "Fay\n",
      "Jenny\n",
      "Peggy\n",
      "Abigail\n",
      "Clemmie\n",
      "Easter\n",
      "Emelia\n",
      "India\n",
      "Lotta\n",
      "Mame\n",
      "Aline\n",
      "Emmer\n",
      "Lissie\n",
      "Mallie\n",
      "Malvina\n",
      "Mazie\n",
      "Robert\n",
      "Rosina\n",
      "Theodora\n",
      "Therese\n",
      "Altha\n",
      "Birtie\n",
      "Claude\n",
      "Emelie\n",
      "Erna\n",
      "Hilma\n",
      "Juliet\n",
      "Leonie\n",
      "Lugenia\n",
      "Manda\n",
      "Manerva\n",
      "Nella\n",
      "Paulina\n",
      "Philomena\n",
      "Sena\n",
      "Althea\n",
      "Annabelle\n",
      "Dell\n",
      "Dellar\n",
      "Elinor\n",
      "Ione\n",
      "Josiephine\n",
      "Lavina\n",
      "Marcia\n",
      "Margarette\n",
      "Oda\n",
      "Patty\n",
      "Rosalia\n",
      "Roxanna\n",
      "Sula\n",
      "Winnifred\n",
      "Bernadette\n",
      "Elena\n",
      "Elenora\n",
      "Inga\n",
      "Kattie\n",
      "Leslie\n",
      "Margery\n",
      "Ocie\n",
      "Rowena\n",
      "Shirley\n",
      "Tabitha\n",
      "Verdie\n",
      "Albertina\n",
      "Albina\n",
      "Alyce\n",
      "Annis\n",
      "Doshie\n",
      "Etna\n",
      "Eve\n",
      "Florance\n",
      "Geraldine\n",
      "Gina\n",
      "Grayce\n",
      "Jossie\n",
      "Katheryn\n",
      "Lea\n",
      "Leanna\n",
      "Leitha\n",
      "Leone\n",
      "Loma\n",
      "Maymie\n",
      "Paralee\n",
      "Tressa\n",
      "Viva\n",
      "Abby\n",
      "Aileen\n",
      "Alda\n",
      "Alla\n",
      "Arvilla\n",
      "Bena\n",
      "Byrd\n",
      "Carey\n",
      "Edyth\n",
      "Eudora\n",
      "Euphemia\n",
      "Evalena\n",
      "Fidelia\n",
      "Golda\n",
      "Helma\n",
      "Ivah\n",
      "Kathryne\n",
      "Lanie\n",
      "Leana\n",
      "Leatha\n",
      "Leo\n",
      "Liller\n",
      "Lillis\n",
      "Mai\n",
      "Minda\n",
      "Monica\n",
      "Odelia\n",
      "Robbie\n",
      "Sabina\n",
      "Sada\n",
      "Sammie\n",
      "Suzanne\n",
      "Thea\n",
      "Wilhelmine\n",
      "Adrienne\n",
      "Albertine\n",
      "Alys\n",
      "Celie\n",
      "Cordella\n",
      "Corrine\n"
     ]
    }
   ],
   "source": [
    "#' Code for activity 2 goes here ------------------\n",
    "for row in subset:\n",
    "    if int(row[4]) < 30:\n",
    "        print(row[1])"
   ]
  },
  {
   "cell_type": "markdown",
   "metadata": {},
   "source": [
    "## Data Manipulation with `pandas`\n",
    "\n",
    "We are going to transition to using `pandas` now. Let's begin by reading in the file..."
   ]
  },
  {
   "cell_type": "code",
   "execution_count": 7,
   "metadata": {
    "collapsed": true
   },
   "outputs": [],
   "source": [
    "import pandas as pd\n",
    "\n",
    "df = pd.read_csv('../../../datasets/baby-names/NationalNames2.csv')"
   ]
  },
  {
   "cell_type": "code",
   "execution_count": 8,
   "metadata": {
    "collapsed": false
   },
   "outputs": [
    {
     "data": {
      "text/html": [
       "<div>\n",
       "<table border=\"1\" class=\"dataframe\">\n",
       "  <thead>\n",
       "    <tr style=\"text-align: right;\">\n",
       "      <th></th>\n",
       "      <th>Id</th>\n",
       "      <th>Name</th>\n",
       "      <th>Year</th>\n",
       "      <th>Gender</th>\n",
       "      <th>Count</th>\n",
       "    </tr>\n",
       "  </thead>\n",
       "  <tbody>\n",
       "    <tr>\n",
       "      <th>0</th>\n",
       "      <td>4</td>\n",
       "      <td>Elizabeth</td>\n",
       "      <td>1880</td>\n",
       "      <td>F</td>\n",
       "      <td>1939</td>\n",
       "    </tr>\n",
       "    <tr>\n",
       "      <th>1</th>\n",
       "      <td>8</td>\n",
       "      <td>Alice</td>\n",
       "      <td>1880</td>\n",
       "      <td>F</td>\n",
       "      <td>1414</td>\n",
       "    </tr>\n",
       "    <tr>\n",
       "      <th>2</th>\n",
       "      <td>12</td>\n",
       "      <td>Clara</td>\n",
       "      <td>1880</td>\n",
       "      <td>F</td>\n",
       "      <td>1226</td>\n",
       "    </tr>\n",
       "    <tr>\n",
       "      <th>3</th>\n",
       "      <td>13</td>\n",
       "      <td>Ella</td>\n",
       "      <td>1880</td>\n",
       "      <td>F</td>\n",
       "      <td>1156</td>\n",
       "    </tr>\n",
       "    <tr>\n",
       "      <th>4</th>\n",
       "      <td>18</td>\n",
       "      <td>Nellie</td>\n",
       "      <td>1880</td>\n",
       "      <td>F</td>\n",
       "      <td>995</td>\n",
       "    </tr>\n",
       "  </tbody>\n",
       "</table>\n",
       "</div>"
      ],
      "text/plain": [
       "   Id       Name  Year Gender  Count\n",
       "0   4  Elizabeth  1880      F   1939\n",
       "1   8      Alice  1880      F   1414\n",
       "2  12      Clara  1880      F   1226\n",
       "3  13       Ella  1880      F   1156\n",
       "4  18     Nellie  1880      F    995"
      ]
     },
     "execution_count": 8,
     "metadata": {},
     "output_type": "execute_result"
    }
   ],
   "source": [
    "df.head(5)"
   ]
  },
  {
   "cell_type": "markdown",
   "metadata": {},
   "source": [
    "So this looks good, but the `Id` column from the original file is redundant because `pandas` provides our data frame with one already. \n",
    "\n",
    "**Activity 3**: *Remove the `Id` column upon reading in the data.*"
   ]
  },
  {
   "cell_type": "code",
   "execution_count": 9,
   "metadata": {
    "collapsed": true
   },
   "outputs": [],
   "source": [
    "#' Code for activity 3 goes here ------------------\n"
   ]
  },
  {
   "cell_type": "markdown",
   "metadata": {},
   "source": [
    "We now want to subset the data frame to only display rows for female names. Remember, here is how we do that in `pandas`. "
   ]
  },
  {
   "cell_type": "code",
   "execution_count": 10,
   "metadata": {
    "collapsed": true
   },
   "outputs": [],
   "source": [
    "females = df[df['Gender'] == 'F']"
   ]
  },
  {
   "cell_type": "markdown",
   "metadata": {},
   "source": [
    "Remember though, I don't want to name my child something common.\n",
    "\n",
    "**Activity 4**: *From this subset of female names, return a data frame with those names who have less than 30 for their count. Name this data frame `uncommon_f`.*"
   ]
  },
  {
   "cell_type": "code",
   "execution_count": 11,
   "metadata": {
    "collapsed": true
   },
   "outputs": [],
   "source": [
    "#' Code for activity 4 goes here ------------------\n",
    "\n"
   ]
  },
  {
   "cell_type": "markdown",
   "metadata": {},
   "source": [
    "Now I am interested in a data frame with only male names, but this time I don't just want to know what uncommon names are out there, but I also want to ensure that I am avoiding the most common names, in case I don't like any of the names from the list.\n",
    "\n",
    "**Activity 5**: *Create a data frame of male names that are less than 30 or greater than or equal to 1000 for their count. Name this data frame `com_uncom_m`.*"
   ]
  },
  {
   "cell_type": "code",
   "execution_count": 12,
   "metadata": {
    "collapsed": true
   },
   "outputs": [],
   "source": [
    "#' Code for activity 5 goes here ------------------\n",
    "\n"
   ]
  },
  {
   "cell_type": "markdown",
   "metadata": {},
   "source": [
    "We are going to go ahead and do some sorting now. Remember this bit of code from the lab exercises where we sorted the rows by `Count`."
   ]
  },
  {
   "cell_type": "code",
   "execution_count": null,
   "metadata": {
    "collapsed": true
   },
   "outputs": [],
   "source": [
    "df.sort_values(by = ['Count'], ascending = True).head(10)"
   ]
  },
  {
   "cell_type": "markdown",
   "metadata": {},
   "source": [
    "**Activity 6**: *Now sort the data frame, `df`, by `Year` and alphabetically by `Name`.* "
   ]
  },
  {
   "cell_type": "code",
   "execution_count": null,
   "metadata": {
    "collapsed": true
   },
   "outputs": [],
   "source": [
    "#' Code for activity 6 goes here ------------------\n"
   ]
  },
  {
   "cell_type": "markdown",
   "metadata": {},
   "source": [
    "Below is one way to find the most popular, by absolute value, name of the entire data set. "
   ]
  },
  {
   "cell_type": "code",
   "execution_count": null,
   "metadata": {
    "collapsed": true
   },
   "outputs": [],
   "source": [
    "df.sort_values(by = ['Count'], ascending = True).tail(1)"
   ]
  },
  {
   "cell_type": "markdown",
   "metadata": {},
   "source": [
    "But what if were were interested in something a bit more specific? Perhaps, the most popular name during a given year.\n",
    "\n",
    "**Activity 7**: *Find the most popular female name in the year 1881.*"
   ]
  },
  {
   "cell_type": "code",
   "execution_count": null,
   "metadata": {
    "collapsed": true
   },
   "outputs": [],
   "source": [
    "#' Code for activity 7 goes here ------------------"
   ]
  },
  {
   "cell_type": "markdown",
   "metadata": {},
   "source": [
    "This final practice exercise is going to be a challenge. Challenge exercises are meant to encourange you to expand on what you have already learned and search for answers that we may have not explicitly gone over. \n",
    "\n",
    "Imagine if we only wanted to find names containing only starting with a certain letter. \n",
    "\n",
    "**Activity 8**: *Create a subset of names from the data set that start with the letter \"E\". Name this data frame `starts_with_e`.*"
   ]
  },
  {
   "cell_type": "code",
   "execution_count": null,
   "metadata": {
    "collapsed": true
   },
   "outputs": [],
   "source": [
    "#' Code for activity 8 goes here ------------------"
   ]
  }
 ],
 "metadata": {
  "kernelspec": {
   "display_name": "Python 3",
   "language": "python",
   "name": "python3"
  },
  "language_info": {
   "codemirror_mode": {
    "name": "ipython",
    "version": 3
   },
   "file_extension": ".py",
   "mimetype": "text/x-python",
   "name": "python",
   "nbconvert_exporter": "python",
   "pygments_lexer": "ipython3",
   "version": "3.5.2"
  }
 },
 "nbformat": 4,
 "nbformat_minor": 0
}
